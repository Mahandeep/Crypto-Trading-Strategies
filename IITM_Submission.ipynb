{
  "cells": [
    {
      "cell_type": "code",
      "execution_count": 27,
      "metadata": {
        "id": "io0SwrWX7VTi"
      },
      "outputs": [],
      "source": [
        "fileName = 'btcusdt_1h.csv'"
      ]
    },
    {
      "cell_type": "markdown",
      "metadata": {
        "id": "VMWtjKxPA86H"
      },
      "source": [
        "#README"
      ]
    },
    {
      "cell_type": "markdown",
      "metadata": {
        "id": "tNhB8sM7BDia"
      },
      "source": [
        "* Set file name above, and run all.\n",
        "* logs.csv will contain the required data\n",
        "\n"
      ]
    },
    {
      "cell_type": "markdown",
      "metadata": {
        "id": "MXIk8wen910N"
      },
      "source": [
        "#Imports"
      ]
    },
    {
      "cell_type": "markdown",
      "metadata": {
        "id": "kF4FDnIT_dco"
      },
      "source": [
        "##Import Libraries"
      ]
    },
    {
      "cell_type": "code",
      "execution_count": 28,
      "metadata": {
        "id": "i_sQdi24l6Wm"
      },
      "outputs": [],
      "source": [
        "import numpy as np\n",
        "import pandas as pd\n",
        "import matplotlib.pyplot as plt"
      ]
    },
    {
      "cell_type": "markdown",
      "metadata": {
        "id": "46y0UdrR-ee3"
      },
      "source": [
        "#Utilities"
      ]
    },
    {
      "cell_type": "markdown",
      "metadata": {
        "id": "CSxM9rI0_BGg"
      },
      "source": [
        "##Helpers"
      ]
    },
    {
      "cell_type": "code",
      "execution_count": 29,
      "metadata": {
        "id": "5hWfrvlCd6Dw"
      },
      "outputs": [],
      "source": [
        "#Utility Class, containing helper functions to find metrics.\n",
        "\n",
        "class Utility:\n",
        "\n",
        "  # Calculates drawdown percentage of the given portfolio values\n",
        "  @staticmethod\n",
        "  def calculate_drawdown_percentage(portfolio_values):\n",
        "    max_drawdowns = []\n",
        "    peak_value = portfolio_values[0]\n",
        "    for i in range(1, len(portfolio_values)):\n",
        "        peak_value = max(peak_value,portfolio_values[i])\n",
        "        drawdown = (peak_value-portfolio_values[i]) / peak_value * 100\n",
        "        max_drawdowns.append(drawdown)\n",
        "\n",
        "    return max(max_drawdowns)\n",
        "\n",
        "  # Generalised function to return required metric\n",
        "  @staticmethod\n",
        "  def calculateMetric(df,portfolioValues,metric):\n",
        "    match metric:\n",
        "      case 'PNL':\n",
        "        return portfolioValues[-1]-portfolioValues[0]\n",
        "      case 'Drawdown':\n",
        "        return Utility.calculate_drawdown_percentage(portfolioValues)\n",
        "      case 'PNLByDrawdown':\n",
        "        return (portfolioValues[-1]-portfolioValues[0])/Utility.calculate_drawdown_percentage(portfolioValues)\n",
        "\n",
        "  # Computes PNL from signals for the entire timeframe passed\n",
        "  @staticmethod\n",
        "  def getCompleteInfo(df,signal_column,initialCash=1000,position=0,entryPrice=0,exitPrice=0,\n",
        "                      metric='PNL',compound=False,addPortfolio=False,printDrawdown=False,\n",
        "                      unrealised=False,commission=0.15,investmentAmount=1000,priceColumn='close'):\n",
        "\n",
        "    portfolio = []\n",
        "    cash = initialCash\n",
        "    multipleBuys = False\n",
        "    multipleSells = False\n",
        "    for index,row in df.iterrows():\n",
        "      if compound:\n",
        "        investmentAmount = cash\n",
        "      signal = row[signal_column]\n",
        "      currPrice = row[priceColumn]\n",
        "      if position==0:\n",
        "        portfolio.append(cash)\n",
        "        if signal==1:\n",
        "          position=1\n",
        "          entryPrice = currPrice\n",
        "        elif signal==-1:\n",
        "          position=-1\n",
        "          exitPrice = currPrice\n",
        "      elif position==1:\n",
        "        if unrealised:\n",
        "          portfolio.append(cash-investmentAmount+investmentAmount/entryPrice*currPrice)\n",
        "        else:\n",
        "          portfolio.append(cash)\n",
        "        if signal==-1:\n",
        "          change = investmentAmount/entryPrice*(currPrice-entryPrice)\n",
        "          cash+=change\n",
        "          cash-=commission/100*investmentAmount\n",
        "          position=0\n",
        "        elif signal==1:\n",
        "          multipleBuys = True\n",
        "      elif position==-1:\n",
        "        if unrealised:\n",
        "          portfolio.append(cash+investmentAmount-investmentAmount/exitPrice*currPrice)\n",
        "        else:\n",
        "          portfolio.append(cash)\n",
        "        if signal==1:\n",
        "          change = investmentAmount/exitPrice*(exitPrice-currPrice)\n",
        "          cash+=change\n",
        "          cash-=commission/100*investmentAmount\n",
        "          position=0\n",
        "        elif signal==-1:\n",
        "          multipleSells = True\n",
        "    if multipleBuys:\n",
        "      print(\"Your signals attempt to hold more than 1 position\")\n",
        "    if multipleSells:\n",
        "      print(\"Your signals attempt to sell more than 1 position\")\n",
        "    if addPortfolio:\n",
        "      df['portfolio'] = portfolio\n",
        "    if printDrawdown:\n",
        "      print(Utility.calculate_drawdown_percentage(portfolio))\n",
        "    return Utility.calculateMetric(df,portfolio,metric)\n",
        "\n",
        "  # Computes Sharpe Ratio\n",
        "  @staticmethod\n",
        "  def calculate_sharpe_ratio(df, risk_free_rate):\n",
        "    df['Daily Return'] = df['portfolio'].pct_change(1)\n",
        "    Sharpe_Ratio = (df['Daily Return'].mean() - risk_free_rate) / df['Daily Return'].std()\n",
        "    A_SharpeRatio = (252 ** 0.5) * Sharpe_Ratio\n",
        "    df.drop(columns = ['Daily Return'])\n",
        "    return A_SharpeRatio\n",
        "\n",
        "  # Computes Sortino Ratio\n",
        "  @staticmethod\n",
        "  def calculate_sortino_ratio(df, risk_free_rate, weights = [1.0]):\n",
        "    returns = df['portfolio'].pct_change(1).dropna()\n",
        "    negative_returns = returns[returns < 0]\n",
        "    downside_std = np.std(negative_returns)\n",
        "    exp_rets = returns.mean()\n",
        "    mean = np.dot(exp_rets, weights)\n",
        "    excess_return = mean - risk_free_rate\n",
        "    sortino_ratio = excess_return / downside_std\n",
        "    return sortino_ratio"
      ]
    },
    {
      "cell_type": "markdown",
      "metadata": {
        "id": "4xJSUZvb-k3c"
      },
      "source": [
        "##Plotter"
      ]
    },
    {
      "cell_type": "code",
      "execution_count": 30,
      "metadata": {
        "id": "VL-Dj_9YkrNS"
      },
      "outputs": [],
      "source": [
        "# Plotter Class, for data visualisation\n",
        "\n",
        "class Plotter:\n",
        "\n",
        "  def __init__(self,figSize=(10,6)):\n",
        "    self.figureSize = figSize\n",
        "\n",
        "  def InitialiseFields(self):\n",
        "    self.numberOfTrades = 0\n",
        "    self.numberOfWinningTrades = 0\n",
        "    self.numberOfLosingTrades = 0\n",
        "    self.averageWinningTrade = 0.0\n",
        "    self.averageLosingTrade = 0.0\n",
        "    self.maxWinningTrade = 0.0\n",
        "    self.maxLosingTrade = 0.0\n",
        "    self.averageHoldOut = 0.0\n",
        "    self.lastPrice = 0.0\n",
        "    self.signal_column = 'signals'\n",
        "    self.initialCash = 1000\n",
        "    self.cash = self.initialCash\n",
        "    self.position = 0\n",
        "    self.portfolio = []\n",
        "    self.count = 0\n",
        "    self.maxDrawDown = 0.0\n",
        "    self.sharpeRatio = 0.0\n",
        "    self.sortinioRatio=0.0\n",
        "    self.priceColumn = 'close'\n",
        "    self.investmentAmount=1000\n",
        "    self.startingCapital = self.initialCash\n",
        "    self.commision=0.15\n",
        "\n",
        "  # Plots PNLs for the given timeframe\n",
        "  def PlotPNL(self,df,signalName,windowSize=500,compound=False,plotName='',threshold=0.0,printMaxValue=False,printFinalPortfolio=False, stopLoss = float('inf'), printDrawdown=False):\n",
        "    self.InitialiseFields()\n",
        "    if compound:\n",
        "      Utility.getCompleteInfo(df,signalName,addPortfolio=True,compound=True, printDrawdown = printDrawdown)\n",
        "    else:\n",
        "      Utility.getCompleteInfo(df,signalName,addPortfolio=True,compound=False, printDrawdown = printDrawdown)\n",
        "    plt.figure(figsize=self.figureSize)\n",
        "    plt.plot(df['Index'], df['portfolio'], label='Portfolio')\n",
        "    plt.xlabel('Time')\n",
        "    plt.ylabel('Portfolio')\n",
        "\n",
        "    stopLossPrint = 'None'\n",
        "    suffix = 'Window = ' + str(windowSize) +', Threshold = ' + str(threshold)\n",
        "    if(stopLoss == float('inf')):\n",
        "      suffix = suffix+', No Stoploss'\n",
        "    else:\n",
        "      suffix = suffix + ', Stoploss = '+str(stopLoss)\n",
        "\n",
        "    if compound:\n",
        "      plt.title('Portfolio compound Values Over Time\\n' + suffix)\n",
        "    else:\n",
        "      plt.title('Portfolio static values Over Time\\n' + suffix)\n",
        "    if printMaxValue:\n",
        "      print(max(df['portfolio']))\n",
        "    if printFinalPortfolio:\n",
        "      print(df.iloc[len(df)-1]['portfolio'])\n",
        "    plt.legend()\n",
        "    plt.grid(True)\n",
        "    plt.show()\n",
        "\n",
        "myPlotter = Plotter()"
      ]
    },
    {
      "cell_type": "markdown",
      "metadata": {
        "id": "mKqja7mx-p5A"
      },
      "source": [
        "#Strategies"
      ]
    },
    {
      "cell_type": "code",
      "execution_count": 31,
      "metadata": {
        "id": "rbW9KCgNmDiP"
      },
      "outputs": [],
      "source": [
        "# Base Strategy Class, containing functionalities and fields common for strategies\n",
        "\n",
        "class Strategy:\n",
        "  def __init__(self,strategyNumber=0):\n",
        "    self.signalsGenerated=False\n",
        "    self.strategyNumber = strategyNumber\n",
        "\n",
        "  def getData(self,df=pd.DataFrame()):\n",
        "    self.data = df\n",
        "\n",
        "  def getSignals(self):\n",
        "    return self.data['signals'+str(self.strategyNumber)]\n",
        "\n",
        "  def generateSignals(self):\n",
        "    pass\n",
        "\n",
        "  def execute(self):\n",
        "    if self.signalsGenerated:\n",
        "      pass\n",
        "    else:\n",
        "      self.signalsGenerated=True\n",
        "      self.generateSignals()"
      ]
    },
    {
      "cell_type": "markdown",
      "metadata": {
        "id": "xTfvixkv_PpV"
      },
      "source": [
        "##Keltner Channel"
      ]
    },
    {
      "cell_type": "code",
      "execution_count": 32,
      "metadata": {
        "id": "ltarIcaNGRT1"
      },
      "outputs": [],
      "source": [
        "class KeltnerChannel(Strategy):\n",
        "  \"\"\"\n",
        "    Keltner channels, similar to Bollinger bands and moving average envelopes are based out of volatility based bands wherein\n",
        "    the metric used for volatility is ATR i.e Average True Range.\n",
        "  \"\"\"\n",
        "  def __init__(self,strategyNumber=0,period=30,multiplier=3,atrLength=14,exp=True):\n",
        "    \"\"\"\n",
        "      The 3 essential parameters for this strategy include:\n",
        "      1. Smoothing (Simple/Exponential moving average) window to use as the base line\n",
        "      2. Multiplier to determine the level of deviation at which trades are executed\n",
        "      3. Length of ATR window to determine the volatility metric\n",
        "    \"\"\"\n",
        "    super().__init__(strategyNumber=strategyNumber)\n",
        "    self.period = period\n",
        "    self.multiplier = multiplier\n",
        "    self.atrLength = atrLength\n",
        "    self.exp = exp\n",
        "\n",
        "  def calcESMA(self, column=\"close\"):\n",
        "    if self.exp == True:\n",
        "      return self.data[column].ewm(span=self.period, adjust=False).mean()\n",
        "    else:\n",
        "      return self.data[column].rolling(window=self.period).mean()\n",
        "\n",
        "  def generateSignals(self):\n",
        "    self.data[\"ma\"] = self.calcESMA()\n",
        "    self.data['High-Low'] = self.data['high'] - self.data['low']\n",
        "    self.data['High-PrevClose'] = np.abs(self.data['high'] - self.data['close'].shift(1))\n",
        "    self.data['Low-PrevClose'] = np.abs(self.data['low'] - self.data['close'].shift(1))\n",
        "    self.data['TrueRange'] = self.data[['High-Low', 'High-PrevClose', 'Low-PrevClose']].max(axis=1)\n",
        "    self.data[\"rangema\"] = self.data['TrueRange'].rolling(window=self.atrLength).mean()\n",
        "    self.data[\"upper\"] = self.data[\"ma\"] + self.data[\"rangema\"]*self.multiplier\n",
        "    self.data[\"lower\"] = self.data[\"ma\"] - self.data[\"rangema\"] *self.multiplier\n",
        "    self.data[\"crossUpper\"] = 0\n",
        "    self.data[\"crossLower\"] = 0\n",
        "    self.data[\"bprice\"] = 0\n",
        "    self.data[\"sprice\"] = 0\n",
        "    self.data[\"BCond\"] = 0\n",
        "    self.data[\"SCond\"] = 0  # Same as cross upper and cross lower(unless there are nan values, none in our case)\n",
        "    self.data[\"CancelBCond\"] = 0\n",
        "    self.data[\"CancelSCond\"] = 0\n",
        "    for i in range(1,len(self.data)):\n",
        "      self.data.loc[i,\"crossUpper\"] = int(self.data.loc[i-1, \"close\"]< self.data.loc[i-1, \"upper\"] and self.data.loc[i,\"close\"]>self.data.loc[i,\"upper\"])\n",
        "      self.data.loc[i,\"crossLower\"] = int(self.data.loc[i-1, \"close\"] > self.data.loc[i-1, \"lower\"] and self.data.loc[i,\"close\"]<self.data.loc[i,\"lower\"])\n",
        "      self.data.loc[i,\"bprice\"] = self.data.loc[i,\"high\"] + self.data.loc[:i,\"high\"].min() if self.data.loc[i,\"crossUpper\"] == 1 else self.data.loc[i-1,\"bprice\"]\n",
        "      self.data.loc[i,\"sprice\"] = self.data.loc[i,\"low\"] - self.data.loc[:i,\"low\"].min() if self.data.loc[i,\"crossLower\"] == 1 else self.data.loc[i-1,\"bprice\"]\n",
        "      self.data.loc[i,\"BCond\"] = self.data.loc[i,\"close\"]>self.data.loc[i,\"upper\"]\n",
        "      self.data.loc[i,\"SCond\"] = self.data.loc[i,\"close\"]<self.data.loc[i,\"lower\"]\n",
        "      self.data.loc[i,\"CancelBCond\"] = self.data.loc[i,\"BCond\"] and (self.data.loc[i,\"close\"]<self.data.loc[i,\"ma\"] or self.data.loc[i,\"high\"]>=self.data.loc[i,\"bprice\"])\n",
        "      self.data.loc[i, \"CancelSCond\"] = self.data.loc[i,\"SCond\"] and (self.data.loc[i,\"close\"]>self.data.loc[i,\"ma\"] or self.data.loc[i,\"low\"]<=self.data.loc[i,\"sprice\"])\n",
        "    position = 0\n",
        "    column = 'signals'+str(self.strategyNumber)\n",
        "    self.data[column] = 0\n",
        "    for i in range(20,len(self.data)):\n",
        "      if self.data.loc[i,\"BCond\"] == 1:\n",
        "        if position != 1:\n",
        "          self.data.loc[i,column] = 1\n",
        "          position +=1\n",
        "      elif self.data.loc[i,\"SCond\"]==1:\n",
        "        if position != -1:\n",
        "          self.data.loc[i,column] = -1\n",
        "          position -= 1\n",
        "      elif self.data.loc[i,\"CancelBCond\"] == 1 and position == 1:\n",
        "        self.data.loc[i,column] = -1\n",
        "        position -=1\n",
        "      elif self.data.loc[i,\"CancelSCond\"] == 1 and position == -1:\n",
        "        self.data.loc[i,column] = 1\n",
        "        position +=1\n",
        "      else:\n",
        "        self.data.loc[i,column] = 0\n",
        "    self.data.drop(columns=['ma','High-Low','High-PrevClose', 'Low-PrevClose', 'TrueRange', 'rangema', 'upper', 'lower', 'crossUpper', 'crossLower', 'bprice', 'sprice', 'BCond', 'SCond', 'CancelBCond', 'CancelSCond'],inplace=True)"
      ]
    },
    {
      "cell_type": "markdown",
      "metadata": {
        "id": "LV0aySZk_V5O"
      },
      "source": [
        "##VWAP"
      ]
    },
    {
      "cell_type": "code",
      "execution_count": 33,
      "metadata": {
        "id": "Nl3UiN0jC-4P"
      },
      "outputs": [],
      "source": [
        "class VWAP(Strategy):\n",
        "  \"\"\"\n",
        "    VWAP - Volume Weighted Average Price acts as a metric to identify the price at which the market participants perceive a\n",
        "    financial asset to be it, by taking into account the trading activity(in terms of volume) at different times and prices.\n",
        "  \"\"\"\n",
        "  def __init__(self, strategyNumber=0,window=1000):\n",
        "    super().__init__(strategyNumber=strategyNumber)\n",
        "    self.window = window\n",
        "\n",
        "  def generateSignals(self):\n",
        "    self.window = 1000\n",
        "    column = 'signals'+str(self.strategyNumber)\n",
        "    self.data[\"vwap\"] = self.data[\"close\"]\n",
        "    self.data[\"cumvolprice\"] = 0\n",
        "    self.data[\"cumvol\"]=0\n",
        "    for i in range(self.window, len(self.data)):\n",
        "      df2 = self.data[i-self.window:i].copy(deep=True)\n",
        "      # print(data)\n",
        "      # print(df[\"volume\"].cumsum())\n",
        "      self.data.loc[i,\"cumvol\"] = (df2[\"volume\"].cumsum())[i-1]\n",
        "      self.data.loc[i,\"cumvolprice\"] = ((df2['volume'] * (df2['high'] + df2['low'] + df2['close'] ) /3).cumsum())[i-1]\n",
        "      self.data.loc[i,\"vwap\"] = self.data.loc[i,\"cumvolprice\"] / self.data.loc[i,\"cumvol\"]\n",
        "\n",
        "    position = 0\n",
        "    self.data[column] = 0\n",
        "    for i in range(self.window,len(self.data)):\n",
        "      if self.data.loc[i,\"vwap\"] < self.data.loc[i,\"close\"] :\n",
        "        if position != 1:\n",
        "          self.data.loc[i,column] = 1\n",
        "          position +=1\n",
        "      elif self.data.loc[i,\"vwap\"] > self.data.loc[i,\"close\"]:\n",
        "        if position != -1:\n",
        "          self.data.loc[i,column] = -1\n",
        "          position -= 1\n",
        "      else:\n",
        "        self.data.loc[i,column] = 0\n",
        "\n",
        "    self.data.drop(columns=['vwap','cumvolprice','cumvol'],inplace=True)"
      ]
    },
    {
      "cell_type": "markdown",
      "metadata": {
        "id": "CosKTqRP_pfP"
      },
      "source": [
        "##CMF"
      ]
    },
    {
      "cell_type": "code",
      "execution_count": 34,
      "metadata": {
        "id": "xnZSXtXOrB7r"
      },
      "outputs": [],
      "source": [
        "class CMF(Strategy):\n",
        "  \"\"\"\n",
        "    Reference Paper : https://www.mdpi.com/2227-7390/10/12/2037\n",
        "    The Chaikin Money Flow Indicator was used in order to quantify buying pressure and selling pressure in the market\n",
        "    by comparing the relative deviation of the close price with respect to the high and low and multiplying with the volume.\n",
        "    A smoothened average of this is used to give the sentiment of the market in the given time window which is of more\n",
        "    importance in cryptocurrencies which is considered more sentiment driven than stock markets and tends to have more extreme\n",
        "    trends and knee jerk reactions.\n",
        "  \"\"\"\n",
        "  def __init__(self,strategyNumber=0,threshold=0):\n",
        "    super().__init__(strategyNumber=strategyNumber)\n",
        "    self.threshold = threshold\n",
        "\n",
        "  def generateSignals(self):\n",
        "    df_hour = self.data.copy()\n",
        "    df_hour[\"datetime\"] = pd.to_datetime(df_hour[\"datetime\"])\n",
        "    df_hour.set_index(\"datetime\", inplace = True)\n",
        "\n",
        "    df_hour.shape\n",
        "\n",
        "    # Resampling to daily  frequency\n",
        "    df_day = pd.DataFrame()\n",
        "    df_day['open'] = df_hour.resample(\"D\").open.first()\n",
        "    df_day['close'] = df_hour.resample(\"D\").close.last()\n",
        "    df_day['high']=df_hour.resample(\"D\").high.max()\n",
        "    df_day['low'] = df_hour.resample(\"D\").low.min()\n",
        "    df_day['volume'] = df_hour.resample(\"D\").volume.sum()\n",
        "    df_day.reset_index(inplace=True)\n",
        "\n",
        "    df_hour.reset_index(inplace=True)\n",
        "    signals = np.zeros(df_day.shape[0])\n",
        "    MFV = df_day.volume*(2*df_day.close - df_day.low - df_day.high)/(df_day.high - df_day.low)\n",
        "    res = MFV.rolling(20).sum()/df_day.volume.rolling(20).sum()\n",
        "    pos = 0\n",
        "    for i in range(signals.shape[0]-1):\n",
        "        if res[i] > self.threshold and pos != 1:\n",
        "            signals[i+1] = 1\n",
        "            pos += 1\n",
        "        elif res[i] < -self.threshold and pos != -1:\n",
        "            signals[i+1] = -1\n",
        "            pos -= 1\n",
        "    df_day['signals'] = signals\n",
        "\n",
        "    signals1 = np.zeros(self.data.shape[0])\n",
        "    j = 0\n",
        "    for i in range(self.data.shape[0]-1):\n",
        "      if df_hour.datetime.iloc[i+1].day != df_hour.datetime.iloc[i].day:\n",
        "        signals1[i] = df_day.signals[j]\n",
        "        j+=1\n",
        "    self.data['signals'+str(self.strategyNumber)] = signals1"
      ]
    },
    {
      "cell_type": "markdown",
      "metadata": {
        "id": "_iKFCyXL-wMy"
      },
      "source": [
        "#Combiner"
      ]
    },
    {
      "cell_type": "markdown",
      "metadata": {
        "id": "mza4cFB9_0Ue"
      },
      "source": [
        "## Combinations"
      ]
    },
    {
      "cell_type": "code",
      "execution_count": 35,
      "metadata": {
        "id": "yzt7_WPGjcXY"
      },
      "outputs": [],
      "source": [
        "# Combination Utility Class, containing various logics for weight combination and selection\n",
        "\n",
        "class Combination:\n",
        "\n",
        "  # Gets Metric Values for all the past windows, weights them exponentially, with highest weight to recentmost.\n",
        "  # Selects the strategy with best weight\n",
        "  @staticmethod\n",
        "  def getExpDecayMax(weights, windowMetrics, decayFactor):\n",
        "    newList = []\n",
        "    for i in range(len(weights)):\n",
        "      aymanFactor = 0.8\n",
        "      sum = 0\n",
        "      for j in range(len(windowMetrics)-1,-1,-1):\n",
        "        sum = sum + windowMetrics[j][i]*aymanFactor\n",
        "        aymanFactor = aymanFactor*0.8\n",
        "      newList.append(sum)\n",
        "\n",
        "    maxWtInd = 0\n",
        "    maxWt = float('-inf')\n",
        "    for i in range(len(weights)):\n",
        "      if(newList[i]>maxWt):\n",
        "        maxWtInd = i\n",
        "        maxWt = newList[i]\n",
        "\n",
        "    res = []\n",
        "    for i in range(len(weights)):\n",
        "      if i==maxWtInd:\n",
        "        res.append(1)\n",
        "      else:\n",
        "        res.append(0)\n",
        "    return res\n",
        "\n",
        "  # Gets Metric Values for all the past windows, weights them exponentially, with highest weight to recentmost.\n",
        "  # Selects the combination (weighted sum of positions).\n",
        "  @staticmethod\n",
        "  def getExpDecayComb(weights, windowMetrics, decayFactor):\n",
        "    newList = []\n",
        "    for i in range(len(weights)):\n",
        "      sum = 0\n",
        "      for j in range(len(windowMetrics)-1,-1,-1):\n",
        "        sum = sum + windowMetrics[j][i]*decayFactorFactor\n",
        "        decayFactorFactor = decayFactorFactor*0.8\n",
        "      newList.append(sum)\n",
        "    return Combination.Normalise(newList)\n",
        "\n",
        "  # Normalises the metrics by dividing by the maximum absolute value\n",
        "  @staticmethod\n",
        "  def getNormal(strategyMetrics):\n",
        "    maxAbsProfit = max([abs(x) for x in strategyMetrics])\n",
        "    for i in range(len(strategyMetrics)):\n",
        "        strategyMetrics[i] = strategyMetrics[i]/maxAbsProfit\n",
        "    return strategyMetrics\n",
        "\n",
        "  # Returns the strategy having the best cumulative metric value\n",
        "  @staticmethod\n",
        "  def getBest(strategyMetrics,weights):\n",
        "    maxProfit = -float('-inf')\n",
        "    for i in range(len(strategyMetrics)):\n",
        "      maxProfit = abs(max(maxProfit,strategyMetrics[i]))\n",
        "\n",
        "    normalFactor = 1/maxProfit\n",
        "\n",
        "    for i in range(len(weights)):\n",
        "      weights[i] = weights[i] + strategyMetrics[i]*normalFactor\n",
        "\n",
        "    maxWtInd = 0\n",
        "    maxWt = float('-inf')\n",
        "    for i in range(len(weights)):\n",
        "      if(weights[i]>maxWt):\n",
        "        maxWtInd = i\n",
        "        maxWt = weights[i]\n",
        "\n",
        "    res = []\n",
        "    for i in range(len(weights)):\n",
        "      if i==maxWtInd:\n",
        "        res.append(1)\n",
        "      else:\n",
        "        res.append(0)\n",
        "    return res\n",
        "\n",
        "  # Cumulative Sum of metric with highest weight to recentmost\n",
        "  @staticmethod\n",
        "  def getLatest(weights,windowMetrics):\n",
        "    newList = []\n",
        "    for i in range(len(weights)):\n",
        "      sum = 0\n",
        "      cur = 1\n",
        "      for j in range(len(windowMetrics)-1,-1,-1):\n",
        "        sum = sum + windowMetrics[j][i]/cur\n",
        "        cur = cur+1\n",
        "      newList.append(sum)\n",
        "\n",
        "    maxWtInd = 0\n",
        "    maxWt = float('-inf')\n",
        "    for i in range(len(weights)):\n",
        "      if(newList[i]>maxWt):\n",
        "        maxWtInd = i\n",
        "        maxWt = newList[i]\n",
        "\n",
        "    res = []\n",
        "    for i in range(len(weights)):\n",
        "      if i==maxWtInd:\n",
        "        res.append(1)\n",
        "      else:\n",
        "        res.append(0)\n",
        "    return res\n",
        "\n",
        "  # Normalises the metrics\n",
        "  @staticmethod\n",
        "  def Normalise(strategyPerformances):\n",
        "    # if min(strategyPerformances)<0:\n",
        "    minPerformance = min(strategyPerformances)\n",
        "    strategyPerformances = [strategyPerformance-minPerformance for strategyPerformance in strategyPerformances]\n",
        "    total = sum(strategyPerformances)\n",
        "    strategyPerformances = [s/total for s in strategyPerformances]\n",
        "    return strategyPerformances"
      ]
    },
    {
      "cell_type": "markdown",
      "metadata": {
        "id": "jib1AMJR_7WP"
      },
      "source": [
        "##Helpers"
      ]
    },
    {
      "cell_type": "code",
      "execution_count": 36,
      "metadata": {
        "id": "XfGqvM8-H05b"
      },
      "outputs": [],
      "source": [
        "# Contains Utility Functions for Combiner Class\n",
        "\n",
        "class CombinerUtility:\n",
        "\n",
        "  # Gets the required window\n",
        "  @staticmethod\n",
        "  def GetWindow(index,window):\n",
        "    return range(index,index+window)\n",
        "\n",
        "  # Gets dataframe of the required window\n",
        "  @staticmethod\n",
        "  def GetWindowDataFrame(df, index, window):\n",
        "    window = min(len(df)-index,window)\n",
        "    return df.iloc[CombinerUtility.GetWindow(index,window)]\n",
        "\n",
        "  # Update Strategy Positions for a given window\n",
        "  @staticmethod\n",
        "  def UpdateCumSums(df,startingIndex,window,cumSums,signal_column='signals'):\n",
        "    for w in range(window):\n",
        "      for k in range(len(cumSums)):\n",
        "        cumSums[k]+= df.iloc[startingIndex+w][signal_column+str(k)]\n",
        "    return cumSums\n",
        "\n",
        "  # Update Strategy Positions for a given Index\n",
        "  @staticmethod\n",
        "  def UpdateCumSumsAtIndex(df,index,cumSums,indices,signal_column='signals'):\n",
        "    for k in range(len(cumSums)):\n",
        "      cumSums[k]+=df.iloc[index][signal_column+str(str(indices[k]))]\n",
        "    return cumSums\n",
        "\n",
        "  # Get required metrics for all strategies of a given window\n",
        "  @staticmethod\n",
        "  def GetStrategyMetrics(df,startingIndex,window,numOfStrategies,currentCash,cumSums,entryPrices,exitPrices,signal_column='signals', metric='PNL'):\n",
        "    metrics = []\n",
        "    for i in range(numOfStrategies):\n",
        "      metrics.append(Utility.getCompleteInfo(CombinerUtility.GetWindowDataFrame(df,startingIndex,window),signal_column+str(i),initialCash=currentCash,position=cumSums[i],entryPrice=entryPrices[i],exitPrice=exitPrices[i],metric=metric, unrealised=True))\n",
        "    return metrics\n",
        "\n",
        "  # Get weights by choosing a combination type\n",
        "  @staticmethod\n",
        "  def GetMetricWeights(df,startingIndex,window,numOfStrategies,currentCash,cumSums,entryPrices,exitPrices,metric,weights,windowMetrics, calculationType='Standard',decayFactor=0.8):\n",
        "    strategyMetrics = CombinerUtility.GetStrategyMetrics(df,startingIndex,window,numOfStrategies,currentCash,cumSums,entryPrices,exitPrices,metric=metric,signal_column='signals')\n",
        "    windowMetrics.append(strategyMetrics.copy())\n",
        "\n",
        "    if metric=='Drawdown':\n",
        "      strategyMetrics = [1/(0.1+x) for x in strategyMetrics]\n",
        "\n",
        "    match calculationType:\n",
        "      case 'Standard':\n",
        "        return Combination.Normalise(strategyMetrics)\n",
        "      case 'ExpDecayComb':\n",
        "        return Combination.getExpDecayMax(weights,windowMetrics,decayFactor)\n",
        "      case 'ExpDecayMax':\n",
        "        return Combination.getExpDecayComb(windowMetrics,decayFactor)\n",
        "      case 'Normal':\n",
        "        return Combination.getNormal(strategyMetrics)\n",
        "      case 'Best':\n",
        "        return Combination.getBest(strategyMetrics,weights)\n",
        "      case 'Latest':\n",
        "        return Combination.getLatest(weights, windowMetrics)\n",
        "\n",
        "  # Get final position after combination\n",
        "  @staticmethod\n",
        "  def GetPositionByCumSums(cumSums,weights,thresh=0):\n",
        "    position = 0\n",
        "    for k in range(len(cumSums)):\n",
        "      position+=weights[k]*cumSums[k]\n",
        "    if position>thresh:\n",
        "      return 1\n",
        "    elif position<-thresh:\n",
        "      return -1\n",
        "    else:\n",
        "      return 0\n",
        "\n",
        "  @staticmethod\n",
        "  def Sign(x):\n",
        "    if x>0:\n",
        "      return 1\n",
        "    elif x<0:\n",
        "      return -1\n",
        "    else:\n",
        "      return 0\n",
        "\n",
        "  # Update entry and exit prices at a given index\n",
        "  @staticmethod\n",
        "  def UpdatePricesAtIndex(df,index,cumSums,entryPrices,exitPrices,signal_column='signals',priceColumn='close'):\n",
        "    price = df.iloc[index][priceColumn]\n",
        "    for k in range(len(cumSums)):\n",
        "      if cumSums[k]==1 and df.iloc[index][signal_column+str(k)]==1:\n",
        "        entryPrices[k] = price\n",
        "      elif cumSums[k]==-1 and df.iloc[index][signal_column+str(k)]==-1:\n",
        "        exitPrices[k] = price\n",
        "    return entryPrices,exitPrices"
      ]
    },
    {
      "cell_type": "markdown",
      "metadata": {
        "id": "ikN1q9_L_838"
      },
      "source": [
        "## Combine"
      ]
    },
    {
      "cell_type": "markdown",
      "metadata": {
        "id": "roMbVkVabjvY"
      },
      "source": [
        "With cryptocurrencies being a developing market, it is of utmost importance to manage risks and stop losses. While sensitive stop losses work well on less noisy developed markets, risk management for cryptocurrencies(based on results of BTC, ETH, LTC, ADA on 2018-2023) is optimal done by dynamic performance based strategies and not static stop losses to make use of the current market dynamics to a greater extent and avoid loss making strategies by minimising their respective weights\n",
        "\n",
        "With average profit in winning trades being more than 4 times that of losing trades, the current risk reward ratio is above industry standard of 2.\n",
        "With an average gain per profitable trade at ~62%, we further make our strategy more robust by adding a stop loss condition such that even in the worst possible case(maximum drawdown), our average profitable trade will be having a reward of > 2:1"
      ]
    },
    {
      "cell_type": "code",
      "execution_count": 37,
      "metadata": {
        "id": "0JFlnJuLJ_WA"
      },
      "outputs": [],
      "source": [
        "# Combiner class, combines given strategies and executes to get combined signals\n",
        "\n",
        "class Combiner:\n",
        "\n",
        "  def __init__(self, strategyList):\n",
        "    self.strategyList = strategyList\n",
        "    self.strategyNumbers = [strategy.strategyNumber for strategy in self.strategyList]\n",
        "    self.executeStrategies()\n",
        "    self.df = pd.DataFrame()\n",
        "\n",
        "  def setData(self,data):\n",
        "    self.df = data\n",
        "\n",
        "  # Run all strategies\n",
        "  def executeStrategies(self):\n",
        "    for strategy in self.strategyList:\n",
        "      strategy.execute()\n",
        "\n",
        "  # Runs the strategy combination based on the specified combination parameters\n",
        "  def execute(self,combineType = 'Standard', metric='PNL',threshold = 0, window = 500,decayFactor = 0.8, startingCapital=1000, addStopLoss = False, stopLoss=0.1,signal_column='signals', priceColumn='close',trailingStopLoss=False):\n",
        "\n",
        "    currentCash = startingCapital\n",
        "    cumSums = [0]*len(self.strategyList)\n",
        "    entryPrices = [0]*len(self.strategyList)\n",
        "    exitPrices = [0]*len(self.strategyList)\n",
        "    weights = [1/len(self.strategyList)]*len(self.strategyList)\n",
        "    windowWeights = [weights.copy()]\n",
        "    position = 0\n",
        "    strategyEntryPrice = 0\n",
        "    strategyExitPrice = 0\n",
        "    maximumEntryPrice = 0\n",
        "\n",
        "    signals = [0]*window\n",
        "\n",
        "    for i in range(window,len(self.df),window):\n",
        "      weights = CombinerUtility.GetMetricWeights(self.df,i-window,window,len(self.strategyList),currentCash,cumSums,entryPrices,exitPrices,metric,weights,windowWeights,calculationType = combineType,decayFactor = decayFactor)\n",
        "      windowWeights.append(weights.copy())\n",
        "      for j in range(i-window,min(i,len(self.df))):\n",
        "        cumSums = CombinerUtility.UpdateCumSumsAtIndex(self.df,j,cumSums,self.strategyNumbers)\n",
        "        entryPrices,exitPrices = CombinerUtility.UpdatePricesAtIndex(self.df,j,cumSums,entryPrices,exitPrices)\n",
        "      cumSumsCopy = cumSums.copy()\n",
        "      for w in range(min(i+window,len(self.df))-i):\n",
        "        signal=0\n",
        "        stopLossCheck=False\n",
        "        if trailingStopLoss:\n",
        "          stopLossPrice = maximumEntryPrice\n",
        "        else:\n",
        "          if position==1:\n",
        "            stopLossPrice = strategyEntryPrice\n",
        "          elif position==-1:\n",
        "            stopLossPrice = strategyExitPrice\n",
        "\n",
        "        if addStopLoss:\n",
        "          if position==1 and self.df.iloc[i+w-1][priceColumn]<=(1-stopLoss)*stopLossPrice:\n",
        "              signal=-1\n",
        "              stopLossCheck=True\n",
        "          elif position==-1 and self.df.iloc[i+w-1][priceColumn]>=(1+stopLoss)*stopLossPrice:\n",
        "              signal=1\n",
        "              stopLossCheck=True\n",
        "        if not addStopLoss or not stopLossCheck:\n",
        "          newPosition = CombinerUtility.GetPositionByCumSums(cumSumsCopy,weights,threshold)\n",
        "          cumSumsCopy = CombinerUtility.UpdateCumSumsAtIndex(self.df,i+w,cumSumsCopy,self.strategyNumbers)\n",
        "          signal = CombinerUtility.Sign(newPosition-position)\n",
        "        signals.append(signal)\n",
        "        currentCash += -1*signal*self.df.iloc[i+w][priceColumn]\n",
        "        position += signal\n",
        "        if position==1 and signal==1:\n",
        "          strategyEntryPrice = self.df.iloc[i+1][priceColumn]\n",
        "          maximumEntryPrice = strategyEntryPrice\n",
        "        elif position==-1 and signal==-1:\n",
        "          strategyExitPrice = self.df.iloc[i+w][priceColumn]\n",
        "          maximumEntryPrice = strategyExitPrice\n",
        "        elif position==1 and signal==0:\n",
        "          maximumEntryPrice = max(maximumEntryPrice,strategyEntryPrice)\n",
        "        elif position==-1 and signal==0:\n",
        "          maximumEntryPrice = min(maximumEntryPrice,strategyExitPrice)\n",
        "    self.df[signal_column] = signals\n"
      ]
    },
    {
      "cell_type": "markdown",
      "metadata": {
        "id": "J8WiZEDUCDXQ"
      },
      "source": [
        "#Handler"
      ]
    },
    {
      "cell_type": "code",
      "execution_count": 38,
      "metadata": {
        "id": "on60_reZCBKh"
      },
      "outputs": [],
      "source": [
        "class Handler:\n",
        "\n",
        "  def __init__(self,strategyList):\n",
        "    self.data = pd.DataFrame()\n",
        "    self.strategyList = strategyList\n",
        "\n",
        "  def readData(self, inputFile='btcusdt_1h.csv'):\n",
        "    self.data = pd.read_csv(inputFile)\n",
        "    self.data['Index'] = range(len(self.data))\n",
        "\n",
        "  def getData(self):\n",
        "    return self.data\n",
        "\n",
        "  def setStrategyData(self):\n",
        "    for strategy in self.strategyList:\n",
        "      strategy.getData(self.data)\n",
        "\n",
        "  def setCombinerData(self):\n",
        "    self.combiner.setData(self.data)\n",
        "\n",
        "  def createCombiner(self):\n",
        "    self.combiner = Combiner(self.strategyList)\n",
        "\n",
        "  def runCombiner(self,combineType = 'Standard', metric='PNL',threshold = 0, window = 500,decayFactor = 0.8, startingCapital=1000, addStopLoss = False, stopLoss=0.1,signal_column='signals', priceColumn='close'):\n",
        "    self.combiner.execute(combineType=combineType, metric = metric, threshold = threshold, window = window, decayFactor = decayFactor, startingCapital=startingCapital, addStopLoss=addStopLoss, stopLoss=stopLoss, signal_column=signal_column, priceColumn = priceColumn)\n",
        "\n",
        "  def generateLogs(self,outputFile = 'logs.csv'):\n",
        "    self.data[['Index','datetime','open','high','low','close','volume','signals']].to_csv(outputFile,encoding='utf-8',index=False)\n",
        "\n",
        "  def run(self,combineType = 'Standard', metric='PNL',threshold = 0, window = 500,decayFactor = 0.8, startingCapital=1000, addStopLoss = False, stopLoss=0.1,signal_column='signals', priceColumn='close'):\n",
        "    self.setStrategyData()\n",
        "    self.createCombiner()\n",
        "    self.setCombinerData()\n",
        "    self.runCombiner(combineType=combineType, metric = metric, threshold = threshold, window = window, decayFactor = decayFactor, startingCapital=startingCapital, addStopLoss=addStopLoss, stopLoss=stopLoss, signal_column=signal_column, priceColumn = priceColumn)\n",
        "\n"
      ]
    },
    {
      "cell_type": "markdown",
      "metadata": {
        "id": "vs6FqUkrdEaU"
      },
      "source": [
        "#Run"
      ]
    },
    {
      "cell_type": "code",
      "execution_count": 39,
      "metadata": {
        "colab": {
          "base_uri": "https://localhost:8080/",
          "height": 585
        },
        "id": "Otpk3lg3Km91",
        "outputId": "53c46282-46bc-433b-b7dd-547d3da172ca"
      },
      "outputs": [
        {
          "data": {
            "image/png": "[encoded data removed]",
            "text/plain": [
              "<Figure size 1000x600 with 1 Axes>"
            ]
          },
          "metadata": {},
          "output_type": "display_data"
        }
      ],
      "source": [
        "myKeltner = KeltnerChannel(strategyNumber=0)\n",
        "myCMF = CMF(strategyNumber=1)\n",
        "\n",
        "myHandler = Handler([myKeltner,myCMF])\n",
        "myHandler.readData(inputFile=fileName)\n",
        "myHandler.run(window=500,threshold=0.3)\n",
        "myHandler.generateLogs()\n",
        "logs = myHandler.getData()\n",
        "myPlotter.PlotPNL(logs,'signals',compound=True)\n"
      ]
    }
  ],
  "metadata": {
    "colab": {
      "collapsed_sections": [
        "CSxM9rI0_BGg",
        "4xJSUZvb-k3c",
        "mKqja7mx-p5A",
        "xTfvixkv_PpV",
        "LV0aySZk_V5O",
        "CosKTqRP_pfP",
        "mza4cFB9_0Ue",
        "jib1AMJR_7WP",
        "ikN1q9_L_838"
      ],
      "provenance": []
    },
    "kernelspec": {
      "display_name": "Python 3",
      "name": "python3"
    },
    "language_info": {
      "codemirror_mode": {
        "name": "ipython",
        "version": 3
      },
      "file_extension": ".py",
      "mimetype": "text/x-python",
      "name": "python",
      "nbconvert_exporter": "python",
      "pygments_lexer": "ipython3",
      "version": "3.10.8"
    }
  },
  "nbformat": 4,
  "nbformat_minor": 0
}

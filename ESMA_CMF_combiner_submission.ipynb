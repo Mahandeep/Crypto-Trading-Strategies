{
  "cells": [
    {
      "cell_type": "code",
      "source": [
        "fileName = 'btcusdt_1h.csv'\n",
        "#USAGE set fileName\n",
        "#upload appropriate file\n",
        "#run all\n",
        "#logs.csv contains required file"
      ],
      "metadata": {
        "id": "pluD3UUnHmC7"
      },
      "execution_count": 3,
      "outputs": []
    },
    {
      "cell_type": "markdown",
      "source": [
        "#Imports"
      ],
      "metadata": {
        "id": "Sb6PfBLZ-LWZ"
      }
    },
    {
      "cell_type": "markdown",
      "source": [
        "##Import Libraries and get data"
      ],
      "metadata": {
        "id": "b-LVk41M-aDx"
      }
    },
    {
      "cell_type": "code",
      "source": [
        "import pandas as pd\n",
        "import numpy as np\n",
        "import scipy\n",
        "import matplotlib.pyplot as plt\n",
        "import pylab as pl\n",
        "from matplotlib.pylab import date2num\n",
        "from datetime import datetime, timedelta\n",
        "from scipy import stats\n",
        "from itertools import product\n",
        "import statsmodels.api as sm\n",
        "from statsmodels.tsa.arima_model import ARIMA\n",
        "from statsmodels.tsa.statespace.sarimax import SARIMAX\n",
        "import random\n",
        "from google.colab import files\n",
        "\n",
        "import warnings\n",
        "plt.style.use('seaborn-poster')\n",
        "warnings.filterwarnings(\"ignore\")\n",
        "\n",
        "df=pd.DataFrame(pd.read_csv('/content/'+fileName))\n",
        "df['Index'] = range(0,len(df))"
      ],
      "metadata": {
        "id": "5GunwaYU-ZZD",
        "colab": {
          "base_uri": "https://localhost:8080/"
        },
        "outputId": "0908d1d0-0e65-4f8f-ad03-076425ef9b6d"
      },
      "execution_count": 4,
      "outputs": [
        {
          "output_type": "stream",
          "name": "stderr",
          "text": [
            "<ipython-input-4-40e91ff65790>:17: MatplotlibDeprecationWarning: The seaborn styles shipped by Matplotlib are deprecated since 3.6, as they no longer correspond to the styles shipped by seaborn. However, they will remain available as 'seaborn-v0_8-<style>'. Alternatively, directly use the seaborn API instead.\n",
            "  plt.style.use('seaborn-poster')\n"
          ]
        }
      ]
    },
    {
      "cell_type": "markdown",
      "source": [
        "#Plotter"
      ],
      "metadata": {
        "id": "zsk-qr1SAG14"
      }
    },
    {
      "cell_type": "code",
      "source": [
        "#@title Initial Values\n",
        "numberOfTrades = 0\n",
        "numberOfWinningTrades = 0\n",
        "numberOfLosingTrades = 0\n",
        "averageWinningTrade = 0.0\n",
        "averageLosingTrade = 0.0\n",
        "maxWinningTrade = 0.0\n",
        "maxLosingTrade = 0.0\n",
        "averageHoldOut = 0.0\n",
        "lastPrice = 0.0\n",
        "signal_column = 'signals'\n",
        "initialCash = 1000\n",
        "cash = initialCash\n",
        "position = 0\n",
        "portfolio = []\n",
        "count = 0\n",
        "maxDrawDown = 0.0\n",
        "sharpeRatio = 0.0\n",
        "sortinioRatio=0.0\n",
        "priceColumn = 'close'\n",
        "investmentAmount=1000\n",
        "startingCapital = initialCash\n",
        "commision=0.15"
      ],
      "metadata": {
        "cellView": "form",
        "id": "dNi9qo3uCiJ6"
      },
      "execution_count": 5,
      "outputs": []
    },
    {
      "cell_type": "markdown",
      "source": [
        "#Strategies"
      ],
      "metadata": {
        "id": "UOA3FrjzFPqu"
      }
    },
    {
      "cell_type": "code",
      "source": [
        "strategyNumber=0"
      ],
      "metadata": {
        "id": "4EmtFqn2E384"
      },
      "execution_count": 6,
      "outputs": []
    },
    {
      "cell_type": "markdown",
      "source": [
        "##ESMA"
      ],
      "metadata": {
        "id": "Dhzf3DyDCkcC"
      }
    },
    {
      "cell_type": "code",
      "source": [
        "length = 30\n",
        "multiplier = 3\n",
        "atrLength = 14\n",
        "exp = True\n",
        "def ESMA(data,exp, period, column=\"close\"):\n",
        "  if exp == True:\n",
        "    return data[column].ewm(span=period, adjust=False).mean()\n",
        "  else:\n",
        "    return data[column].rolling(window=period).mean()\n",
        "\n",
        "def ESMASignals(data,stratNumber):\n",
        "  data[\"ma\"] = ESMA(data,exp,length)\n",
        "  # rangema = ATR LOGIC #### TODO ####\n",
        "  data['High-Low'] = data['high'] - data['low']\n",
        "  data['High-PrevClose'] = np.abs(data['high'] - data['close'].shift(1))\n",
        "  data['Low-PrevClose'] = np.abs(data['low'] - data['close'].shift(1))\n",
        "  data['TrueRange'] = data[['High-Low', 'High-PrevClose', 'Low-PrevClose']].max(axis=1)\n",
        "  data[\"rangema\"] = data['TrueRange'].rolling(window=atrLength).mean()\n",
        "  data[\"upper\"] = data[\"ma\"] + data[\"rangema\"]*multiplier\n",
        "  data[\"lower\"] = data[\"ma\"] - data[\"rangema\"] *multiplier\n",
        "  data[\"crossUpper\"] = 0\n",
        "  data[\"crossLower\"] = 0\n",
        "  data[\"bprice\"] = 0\n",
        "  data[\"sprice\"] = 0\n",
        "  data[\"BCond\"] = 0\n",
        "  data[\"SCond\"] = 0  # Same as cross upper and cross lower(unless there are nan values, none in our case)\n",
        "  data[\"CancelBCond\"] = 0\n",
        "  data[\"CancelSCond\"] = 0\n",
        "  for i in range(1,len(data)):\n",
        "    data.loc[i,\"crossUpper\"] = int(data.loc[i-1, \"close\"]< data.loc[i-1, \"upper\"] and data.loc[i,\"close\"]>data.loc[i,\"upper\"])\n",
        "    data.loc[i,\"crossLower\"] = int(data.loc[i-1, \"close\"] > data.loc[i-1, \"lower\"] and data.loc[i,\"close\"]<data.loc[i,\"lower\"])\n",
        "    data.loc[i,\"bprice\"] = data.loc[i,\"high\"] + data.loc[:i,\"high\"].min() if data.loc[i,\"crossUpper\"] == 1 else data.loc[i-1,\"bprice\"]\n",
        "    data.loc[i,\"sprice\"] = data.loc[i,\"low\"] - data.loc[:i,\"low\"].min() if data.loc[i,\"crossLower\"] == 1 else data.loc[i-1,\"bprice\"]\n",
        "    data.loc[i,\"BCond\"] = data.loc[i,\"close\"]>data.loc[i,\"upper\"]\n",
        "    data.loc[i,\"SCond\"] = data.loc[i,\"close\"]<data.loc[i,\"lower\"]\n",
        "    data.loc[i,\"CancelBCond\"] = data.loc[i,\"BCond\"] and (data.loc[i,\"close\"]<data.loc[i,\"ma\"] or data.loc[i,\"high\"]>=data.loc[i,\"bprice\"])\n",
        "    data.loc[i, \"CancelSCond\"] = data.loc[i,\"SCond\"] and (data.loc[i,\"close\"]>data.loc[i,\"ma\"] or data.loc[i,\"low\"]<=data.loc[i,\"sprice\"])\n",
        "  position = 0\n",
        "  column = 'signals'+str(stratNumber)\n",
        "  data[column] = 0\n",
        "  for i in range(20,len(data)):\n",
        "    if data.loc[i,\"BCond\"] == 1:\n",
        "      if position != 1:\n",
        "        data.loc[i,column] = 1\n",
        "        position +=1\n",
        "    elif data.loc[i,\"SCond\"]==1:\n",
        "      if position != -1:\n",
        "        data.loc[i,column] = -1\n",
        "        position -= 1\n",
        "    elif data.loc[i,\"CancelBCond\"] == 1 and position == 1:\n",
        "      data.loc[i,column] = -1\n",
        "      position -=1\n",
        "    elif data.loc[i,\"CancelSCond\"] == 1 and position == -1:\n",
        "      data.loc[i,column] = 1\n",
        "      position +=1\n",
        "    else:\n",
        "      data.loc[i,column] = 0"
      ],
      "metadata": {
        "id": "m6xE7C0FCnDn"
      },
      "execution_count": 7,
      "outputs": []
    },
    {
      "cell_type": "code",
      "source": [
        "ESMASignals(df,strategyNumber)\n",
        "strategyNumber+=1"
      ],
      "metadata": {
        "id": "ChupwlcCC4Mw"
      },
      "execution_count": 8,
      "outputs": []
    },
    {
      "cell_type": "markdown",
      "source": [
        "##CMF"
      ],
      "metadata": {
        "id": "5yMGxVDcDok9"
      }
    },
    {
      "cell_type": "code",
      "source": [
        "def cmf(df, stratNumber, thresh=0):\n",
        "  df_hour = df.copy()\n",
        "  df_hour[\"datetime\"] = pd.to_datetime(df_hour[\"datetime\"])\n",
        "  df_hour.set_index(\"datetime\", inplace = True)\n",
        "\n",
        "  df_hour.shape\n",
        "\n",
        "  # Resampling to daily  frequency\n",
        "  df_day = pd.DataFrame()\n",
        "  df_day['open'] = df_hour.resample(\"D\").open.first()\n",
        "  df_day['close'] = df_hour.resample(\"D\").close.last()\n",
        "  df_day['high']=df_hour.resample(\"D\").high.max()\n",
        "  df_day['low'] = df_hour.resample(\"D\").low.min()\n",
        "  df_day['volume'] = df_hour.resample(\"D\").volume.sum()\n",
        "  df_day.reset_index(inplace=True)\n",
        "  # print(df_day)\n",
        "\n",
        "  df_hour.reset_index(inplace=True)\n",
        "  signals = np.zeros(df_day.shape[0])\n",
        "  MFV = df_day.volume*(2*df_day.close - df_day.low - df_day.high)/(df_day.high - df_day.low)\n",
        "  res = MFV.rolling(20).sum()/df_day.volume.rolling(20).sum()\n",
        "  pos = 0\n",
        "  for i in range(signals.shape[0]-1):\n",
        "      if res[i] > thresh and pos != 1:\n",
        "          signals[i+1] = 1\n",
        "          pos += 1\n",
        "      elif res[i] < -thresh and pos != -1:\n",
        "          signals[i+1] = -1\n",
        "          pos -= 1\n",
        "  df_day['signals'] = signals\n",
        "\n",
        "  signals1 = np.zeros(df.shape[0])\n",
        "  j = 0\n",
        "  for i in range(df.shape[0]-1):\n",
        "    if df_hour.datetime.iloc[i+1].day != df_hour.datetime.iloc[i].day:\n",
        "      signals1[i] = df_day.signals[j]\n",
        "      j+=1\n",
        "  df['signals'+str(stratNumber)] = signals1\n",
        "  return df"
      ],
      "metadata": {
        "id": "gaoblqMXDr4v"
      },
      "execution_count": 9,
      "outputs": []
    },
    {
      "cell_type": "code",
      "source": [
        "df = cmf(df,strategyNumber)\n",
        "strategyNumber+=1"
      ],
      "metadata": {
        "id": "PWhoryquEDcc"
      },
      "execution_count": 10,
      "outputs": []
    },
    {
      "cell_type": "markdown",
      "source": [
        "#COMBINER"
      ],
      "metadata": {
        "id": "cYYqrChKBAYJ"
      }
    },
    {
      "cell_type": "code",
      "execution_count": 11,
      "metadata": {
        "id": "b0mpSU_Wq8-J"
      },
      "outputs": [],
      "source": [
        "######################################"
      ]
    },
    {
      "cell_type": "code",
      "execution_count": 12,
      "metadata": {
        "id": "Ty6DsC9dq-J6"
      },
      "outputs": [],
      "source": [
        "#COMBINER CODE\n",
        "signal_column = 'signals'\n",
        "windowPNLs = []\n",
        "windowWeights = []"
      ]
    },
    {
      "cell_type": "code",
      "execution_count": 13,
      "metadata": {
        "id": "vHcn8-PjqsVK"
      },
      "outputs": [],
      "source": [
        "def getCompleteInfo(df,initialCash,position=0,entryPrice=0,exitPrice=0): #assumes signal represents entry/exit, PNL= (Exit Price−Entry Price) ×  Investment amount/Entry price, returns final portfolio value\n",
        "  global signal_column, priceColumn, investmentAmount\n",
        "  portfolio = []\n",
        "  #position = 0 #####\n",
        "  cash = initialCash\n",
        "  multipleBuys = False\n",
        "  multipleSells = False\n",
        "  #entryPrice = 0\n",
        "  #exitPrice=0\n",
        "  for index,row in df.iterrows():\n",
        "    signal = row[signal_column]\n",
        "    currPrice = row[priceColumn]\n",
        "    if position==0:\n",
        "      portfolio.append(cash)\n",
        "      if signal==1:\n",
        "        position=1\n",
        "        entryPrice = currPrice\n",
        "      elif signal==-1:\n",
        "        position=-1\n",
        "        exitPrice = currPrice\n",
        "    elif position==1:\n",
        "      portfolio.append(cash-investmentAmount+investmentAmount/entryPrice*currPrice)\n",
        "      if signal==-1:\n",
        "        change = investmentAmount/entryPrice*(currPrice-entryPrice)\n",
        "        cash+=change\n",
        "        cash-=commision/100*investmentAmount\n",
        "        position=0\n",
        "      elif signal==1:\n",
        "        multipleBuys = True\n",
        "    elif position==-1:\n",
        "      portfolio.append(cash+investmentAmount-investmentAmount/exitPrice*currPrice)\n",
        "      if signal==1:\n",
        "        change = investmentAmount/exitPrice*(exitPrice-currPrice)\n",
        "        cash+=change\n",
        "        cash-=commision/100*investmentAmount\n",
        "        position=0\n",
        "      elif signal==-1:\n",
        "        multipleSells = True\n",
        "  if multipleBuys:\n",
        "    print(\"Your signals attempt to hold more than 1 position\")\n",
        "  if multipleSells:\n",
        "    print(\"Your signals attempt to sell more than 1 position\")\n",
        "  return portfolio[len(portfolio)-1]-portfolio[0]"
      ]
    },
    {
      "cell_type": "code",
      "execution_count": 14,
      "metadata": {
        "id": "wo-HcWIxq8Lp",
        "cellView": "form"
      },
      "outputs": [],
      "source": [
        "#@title Main Utility Functions\n",
        "def InitialiseCumSums(k):\n",
        "  lst= []\n",
        "  for i in range(k):\n",
        "    lst.append(0)\n",
        "  return lst\n",
        "\n",
        "def InitialiseWeights(k):\n",
        "  lst = []\n",
        "  for i in range(k):\n",
        "    lst.append(1/k)\n",
        "  return lst\n",
        "\n",
        "def GetWindow(idx,window):\n",
        "  lst = []\n",
        "  for i in range(idx,idx+window):\n",
        "    lst.append(i)\n",
        "  return lst\n",
        "\n",
        "def GetWindowDF(df, idx, window):\n",
        "  window = min(len(df)-idx,window)\n",
        "  return df.iloc[GetWindow(idx,window)]\n",
        "\n",
        "def UpdateCumSums(df,startingIndex,window,cumSums):\n",
        "  global signal_column\n",
        "  for w in range(window):\n",
        "    for k in range(len(cumSums)):\n",
        "      cumSums[k]+= df.iloc[startingIndex+w][signal_column+str(k)]\n",
        "  return cumSums\n",
        "\n",
        "def UpdateCumSumsAtIndex(df,index,cumSums,indices):\n",
        "  global signal_column\n",
        "  for k in range(len(cumSums)):\n",
        "    cumSums[k]+=df.iloc[index][signal_column+str(indices[k])]\n",
        "  return cumSums\n",
        "\n",
        "def GetPNLs(df,startingIndex,window,numOfStrategies,currentCash,cumSums,entryPrices,exitPrices):\n",
        "  global signal_column\n",
        "  PNLs = []\n",
        "  minProfit = float('inf')\n",
        "  prevSignalColumn = signal_column\n",
        "  for i in range(numOfStrategies):\n",
        "    signal_column = signal_column+str(i)\n",
        "    PNLs.append(getCompleteInfo(GetWindowDF(df,startingIndex,window),currentCash,cumSums[i],entryPrices[i],exitPrices[i]))\n",
        "    signal_column = prevSignalColumn\n",
        "    minProfit = min(minProfit,PNLs[i])\n",
        "  signal_column = prevSignalColumn\n",
        "  return PNLs,minProfit\n",
        "\n",
        "def GetPNLWeights(df,startingIndex,window,numOfStrategies,currentCash,cumSums,entryPrices,exitPrices):\n",
        "  global windowPNLs\n",
        "  profitList,minProfit = GetPNLs(df,startingIndex,window,numOfStrategies,currentCash,cumSums,entryPrices,exitPrices)\n",
        "  windowPNLs.append(profitList.copy())\n",
        "  sum = 0\n",
        "  for i in range(numOfStrategies):\n",
        "    profitList[i]-=minProfit\n",
        "    sum+=profitList[i]\n",
        "  if sum==0:\n",
        "    for i in range(numOfStrategies):\n",
        "      profitList[i] = 1/numOfStrategies\n",
        "  else:\n",
        "    for i in range(numOfStrategies):\n",
        "      profitList[i] = profitList[i]/sum\n",
        "  return profitList\n",
        "  #return [1,0,0,0,0]\n",
        "\n",
        "def GetPosition(df,index,weights):\n",
        "  position = 0\n",
        "  for i in range(len(weights)):\n",
        "    position+= weights[i]*df.iloc[index][signal_column+str(i)]\n",
        "  if position>0:\n",
        "    return 1\n",
        "  if position<0:\n",
        "    return -1\n",
        "  else:\n",
        "    return 0\n",
        "\n",
        "def GetPositionByCumSums(cumSums,weights):\n",
        "  position = 0\n",
        "  for k in range(len(cumSums)):\n",
        "    position+=weights[k]*cumSums[k]\n",
        "  if position>0:\n",
        "    return 1\n",
        "  elif position<0:\n",
        "    return -1\n",
        "  else:\n",
        "    return 0\n",
        "\n",
        "def GetPositionByCumSumsThresh(cumSums,weights,thresh=0):\n",
        "  position = 0\n",
        "  for k in range(len(cumSums)):\n",
        "    position+=weights[k]*cumSums[k]\n",
        "  if position>thresh:\n",
        "    return 1\n",
        "  elif position<-thresh:\n",
        "    return -1\n",
        "  else:\n",
        "    return 0\n",
        "\n",
        "def Sign(x):\n",
        "  if x>0:\n",
        "    return 1\n",
        "  elif x<0:\n",
        "    return -1\n",
        "  else:\n",
        "    return 0\n",
        "\n",
        "def GetPositionUsingMajorityCumSums(cumSums,m):\n",
        "  sumOfPositions = 0\n",
        "  for k in range(len(cumSums)):\n",
        "    sumOfPositions+=cumSums[k]\n",
        "  if abs(sumOfPositions)>=2*m-len(cumSums):\n",
        "    if  sumOfPositions>0:\n",
        "      return 1\n",
        "    else:\n",
        "      return -1\n",
        "  else:\n",
        "    return 0\n",
        "\n",
        "\n",
        "def UpdatePricesAtIndex(df,index,cumSums,entryPrices,exitPrices):\n",
        "  global priceColumn,signal_column\n",
        "  price = df.iloc[index][priceColumn]\n",
        "  for k in range(len(cumSums)):\n",
        "    if cumSums[k]==1 and df.iloc[index][signal_column+str(k)]==1:\n",
        "      entryPrices[k] = price\n",
        "    elif cumSums[k]==-1 and df.iloc[index][signal_column+str(k)]==-1:\n",
        "      exitPrices[k] = price\n",
        "  return entryPrices,exitPrices\n"
      ]
    },
    {
      "cell_type": "code",
      "execution_count": 15,
      "metadata": {
        "id": "DUvi-Y06rje6"
      },
      "outputs": [],
      "source": [
        "def dummyStrat():\n",
        "  return 0"
      ]
    },
    {
      "cell_type": "code",
      "source": [
        "#@title Utility functions Ayman\n",
        "\n",
        "def GetPNLWeightsLatestBestMax(df,startingIndex,window,numOfStrategies,currentCash,cumSums,entryPrices,exitPrices,weights):\n",
        "  global windowPNLs\n",
        "  profitList,minProfit = GetPNLs(df,startingIndex,window,numOfStrategies,currentCash,cumSums,entryPrices,exitPrices)\n",
        "  windowPNLs.append(profitList.copy())\n",
        "\n",
        "  maxProfit = -float('-inf')\n",
        "  for i in range(len(profitList)):\n",
        "    maxProfit = abs(max(maxProfit,profitList[i]))\n",
        "\n",
        "  aymanFactor = 1/maxProfit\n",
        "\n",
        "  for i in range(len(weights)):\n",
        "    weights[i] = weights[i] + profitList[i]*aymanFactor\n",
        "\n",
        "  maxWtInd = 0\n",
        "  maxWt = float('-inf')\n",
        "  for i in range(len(weights)):\n",
        "    if(weights[i]>maxWt):\n",
        "      maxWtInd = i\n",
        "      maxWt = weights[i]\n",
        "\n",
        "  res = []\n",
        "  for i in range(len(weights)):\n",
        "    if i==maxWtInd:\n",
        "      res.append(1)\n",
        "    else:\n",
        "      res.append(0)\n",
        "  return res\n",
        "\n",
        "def GetPNLWeightsPrioritiseLatestMax(df,startingIndex,window,numOfStrategies,currentCash,cumSums,entryPrices,exitPrices,weights):\n",
        "  global windowPNLs\n",
        "  profitList,minProfit = GetPNLs(df,startingIndex,window,numOfStrategies,currentCash,cumSums,entryPrices,exitPrices)\n",
        "  windowPNLs.append(profitList.copy())\n",
        "  # print(windowPNLs)\n",
        "  newList = []\n",
        "  for i in range(numOfStrategies):\n",
        "    sum = 0\n",
        "    cur = 1\n",
        "    for j in range(len(windowPNLs)-1,-1,-1):\n",
        "      sum = sum + windowPNLs[j][i]/cur\n",
        "      cur = cur+1\n",
        "    newList.append(sum)\n",
        "\n",
        "  maxWtInd = 0\n",
        "  maxWt = float('-inf')\n",
        "  for i in range(len(weights)):\n",
        "    if(newList[i]>maxWt):\n",
        "      maxWtInd = i\n",
        "      maxWt = newList[i]\n",
        "\n",
        "  res = []\n",
        "  for i in range(len(weights)):\n",
        "    if i==maxWtInd:\n",
        "      res.append(1)\n",
        "    else:\n",
        "      res.append(0)\n",
        "  return res\n",
        "\n",
        "def GetPNLWeightsExpDecayComb(df,startingIndex,window,numOfStrategies,currentCash,cumSums,entryPrices,exitPrices,weights):\n",
        "  global windowPNLs\n",
        "  profitList,minProfit = GetPNLs(df,startingIndex,window,numOfStrategies,currentCash,cumSums,entryPrices,exitPrices)\n",
        "  windowPNLs.append(profitList.copy())\n",
        "\n",
        "  newList = []\n",
        "  for i in range(numOfStrategies):\n",
        "    aymanFactor = 0.8\n",
        "    sum = 0\n",
        "    for j in range(len(windowPNLs)-1,-1,-1):\n",
        "      sum = sum + windowPNLs[j][i]*aymanFactor\n",
        "      aymanFactor = aymanFactor*0.8\n",
        "    newList.append(sum)\n",
        "\n",
        "  minNum = min(newList)\n",
        "\n",
        "  sum = 0\n",
        "  for i in range(numOfStrategies):\n",
        "    newList[i]-=minProfit\n",
        "    sum+=newList[i]\n",
        "  if sum==0:\n",
        "    for i in range(numOfStrategies):\n",
        "      newList[i] = 1/numOfStrategies\n",
        "  else:\n",
        "    for i in range(numOfStrategies):\n",
        "      newList[i] = profitList[i]/sum\n",
        "  return newList\n",
        "\n",
        "\n",
        "def GetPNLWeightsExpDecayMax(df,startingIndex,window,numOfStrategies,currentCash,cumSums,entryPrices,exitPrices,weights):\n",
        "  global windowPNLs\n",
        "  profitList,minProfit = GetPNLs(df,startingIndex,window,numOfStrategies,currentCash,cumSums,entryPrices,exitPrices)\n",
        "  windowPNLs.append(profitList.copy())\n",
        "\n",
        "  newList = []\n",
        "  for i in range(numOfStrategies):\n",
        "    aymanFactor = 0.8\n",
        "    sum = 0\n",
        "    for j in range(len(windowPNLs)-1,-1,-1):\n",
        "      sum = sum + windowPNLs[j][i]*aymanFactor\n",
        "      aymanFactor = aymanFactor*0.8\n",
        "    newList.append(sum)\n",
        "\n",
        "  maxWtInd = 0\n",
        "  maxWt = float('-inf')\n",
        "  for i in range(len(weights)):\n",
        "    if(newList[i]>maxWt):\n",
        "      maxWtInd = i\n",
        "      maxWt = newList[i]\n",
        "\n",
        "  res = []\n",
        "  for i in range(len(weights)):\n",
        "    if i==maxWtInd:\n",
        "      res.append(1)\n",
        "    else:\n",
        "      res.append(0)\n",
        "  return res\n",
        "\n",
        "def GetPNLWeightsNormal(df,startingIndex,window,numOfStrategies,currentCash,cumSums,entryPrices,exitPrices):\n",
        "  global windowPNLs\n",
        "  profitList,minProfit = GetPNLs(df,startingIndex,window,numOfStrategies,currentCash,cumSums,entryPrices,exitPrices)\n",
        "  windowPNLs.append(profitList.copy())\n",
        "  sum = 0\n",
        "  maxAbsProfit = max([abs(x) for x in profitList])\n",
        "  for i in range(numOfStrategies):\n",
        "      profitList[i] = profitList[i]/maxAbsProfit\n",
        "  return profitList"
      ],
      "metadata": {
        "id": "7THZBz97MT4_",
        "cellView": "form"
      },
      "execution_count": 16,
      "outputs": []
    },
    {
      "cell_type": "code",
      "execution_count": 17,
      "metadata": {
        "id": "6sA4UcxWrR0G",
        "cellView": "form"
      },
      "outputs": [],
      "source": [
        "#@title Window Weight Strategy\n",
        "#THOUGHTS:\n",
        "#Each strategy runs for window iterations, then combiner uses signals from both strategies to get new set of signals\n",
        "\n",
        "#Bookkeeping  for stratgies - entryPrice, exitPrice, cumSum\n",
        "def CombineUsingWeightedWindows(df, strategyList, window, combType='Standard', indices = []): #Assume that function takes l,r values to populate, ith strategy populates column signal+'i'\n",
        "  global signal_column, priceColumn, investmentAmount, startingCapital,windowWeights\n",
        "  if len(indices)==0:\n",
        "    for i in range(len(strategyList)):\n",
        "      indices.append(i)\n",
        "  currentCash = startingCapital\n",
        "  cumSums = InitialiseCumSums(len(strategyList))\n",
        "  entryPrices = InitialiseCumSums(len(strategyList))\n",
        "  exitPrices = InitialiseCumSums(len(strategyList))\n",
        "  weights = InitialiseWeights(len(strategyList))\n",
        "  signals = []\n",
        "  position = 0\n",
        "\n",
        "  for i in range(window):\n",
        "    #cumSums = UpdateCumSumsAtIndex(df,i,cumSums)\n",
        "    #entryPrices,exitPrices = UpdatePricesAtIndex(df,i,cumSums,entryPrices,exitPrices)\n",
        "    signals.append(0)\n",
        "  for i in range(window,len(df),window):\n",
        "    if combType=='Standard':\n",
        "      weights = GetPNLWeights(df,i-window,window,len(strategyList),currentCash,cumSums,entryPrices,exitPrices)\n",
        "    elif combType=='ExpMax':\n",
        "      weights = GetPNLWeightsExpDecayMax(df,i-window,window,len(strategyList),currentCash,cumSums,entryPrices,exitPrices,weights)\n",
        "    elif combType=='ExpComb':\n",
        "      weights = GetPNLWeightsExpDecayComb(df,i-window,window,len(strategyList),currentCash,cumSums,entryPrices,exitPrices,weights)\n",
        "    elif combType=='Normal':\n",
        "      weights = GetPNLWeightsNormal(df,i-window,window,len(strategyList),currentCash,cumSums,entryPrices,exitPrices)\n",
        "    elif combType=='Best':\n",
        "      weights = GetPNLWeightsLatestBestMax(df,i-window,window,len(strategyList),currentCash,cumSums,entryPrices,exitPrices,weights)\n",
        "    elif combType=='Latest':\n",
        "      weights = GetPNLWeightsPrioritiseLatestMax(df,i-window,window,len(strategyList),currentCash,cumSums,entryPrices,exitPrices,weights)\n",
        "\n",
        "    windowWeights.append(weights.copy())\n",
        "    for j in range(i-window,min(i,len(df))):\n",
        "      cumSums = UpdateCumSumsAtIndex(df,j,cumSums,indices)\n",
        "      entryPrices,exitPrices = UpdatePricesAtIndex(df,j,cumSums,entryPrices,exitPrices)\n",
        "    cumSumsCopy = cumSums.copy()\n",
        "    for w in range(min(i+window,len(df))-i):\n",
        "      #cumSums = UpdateCumSumsAtIndex(df,i+w,cumSums)\n",
        "      #entryPrices,exitPrices = UpdatePricesAtIndex(df,i+w,cumSums,entryPrices,exitPrices)\n",
        "      newPosition = GetPositionByCumSums(cumSumsCopy,weights)\n",
        "      cumSumsCopy = UpdateCumSumsAtIndex(df,i+w,cumSumsCopy,indices)\n",
        "      signal = Sign(newPosition-position) #if position = 1, and newPos = -1, signal=-1. i.e. position != newPosition\n",
        "      signals.append(signal)\n",
        "      currentCash += -1*signal*df.iloc[i+w][priceColumn]\n",
        "      position += signal\n",
        "    #i+=window\n",
        "  df[signal_column] = signals"
      ]
    },
    {
      "cell_type": "code",
      "source": [
        "#@title Window Weight Strategy Threshold\n",
        "#THOUGHTS:\n",
        "#Each strategy runs for window iterations, then combiner uses signals from both strategies to get new set of signals\n",
        "\n",
        "#Bookkeeping  for stratgies - entryPrice, exitPrice, cumSum\n",
        "def CombineUsingWeightedWindowsThresh(df, strategyList, window, threshold, indices = []): #Assume that function takes l,r values to populate, ith strategy populates column signal+'i'\n",
        "  global signal_column, priceColumn, investmentAmount, startingCapital,windowWeights\n",
        "  if len(indices)==0:\n",
        "    for i in range(len(strategyList)):\n",
        "      indices.append(i)\n",
        "  currentCash = startingCapital\n",
        "  cumSums = InitialiseCumSums(len(strategyList))\n",
        "  entryPrices = InitialiseCumSums(len(strategyList))\n",
        "  exitPrices = InitialiseCumSums(len(strategyList))\n",
        "  weights = InitialiseWeights(len(strategyList))\n",
        "  signals = []\n",
        "  position = 0\n",
        "\n",
        "  for i in range(window):\n",
        "    #cumSums = UpdateCumSumsAtIndex(df,i,cumSums)\n",
        "    #entryPrices,exitPrices = UpdatePricesAtIndex(df,i,cumSums,entryPrices,exitPrices)\n",
        "    signals.append(0)\n",
        "  for i in range(window,len(df),window):\n",
        "\n",
        "    weights = GetPNLWeights(df,i-window,window,len(strategyList),currentCash,cumSums,entryPrices,exitPrices)\n",
        "    windowWeights.append(weights.copy())\n",
        "    for j in range(i-window,min(i,len(df))):\n",
        "      cumSums = UpdateCumSumsAtIndex(df,j,cumSums,indices)\n",
        "      entryPrices,exitPrices = UpdatePricesAtIndex(df,j,cumSums,entryPrices,exitPrices)\n",
        "    cumSumsCopy = cumSums.copy()\n",
        "    for w in range(min(i+window,len(df))-i):\n",
        "      #cumSums = UpdateCumSumsAtIndex(df,i+w,cumSums)\n",
        "      #entryPrices,exitPrices = UpdatePricesAtIndex(df,i+w,cumSums,entryPrices,exitPrices)\n",
        "      newPosition = GetPositionByCumSumsThresh(cumSumsCopy,weights,threshold)\n",
        "      cumSumsCopy = UpdateCumSumsAtIndex(df,i+w,cumSumsCopy,indices)\n",
        "      signal = Sign(newPosition-position) #if position = 1, and newPos = -1, signal=-1. i.e. position != newPosition\n",
        "      signals.append(signal)\n",
        "      currentCash += -1*signal*df.iloc[i+w][priceColumn]\n",
        "      position += signal\n",
        "    #i+=window\n",
        "  df[signal_column] = signals"
      ],
      "metadata": {
        "id": "An0eejCiNc-z",
        "cellView": "form"
      },
      "execution_count": 18,
      "outputs": []
    },
    {
      "cell_type": "code",
      "source": [
        "CombineUsingWeightedWindowsThresh(df,[dummyStrat,dummyStrat],500,0.3)"
      ],
      "metadata": {
        "id": "Bo5fY4SEIfu1"
      },
      "execution_count": 29,
      "outputs": []
    },
    {
      "cell_type": "code",
      "source": [
        "df['Index'] = range(len(df))\n",
        "df[['Index','datetime','open','high','low','close','volume','signals']].to_csv('/content/logs.csv',encoding='utf-8',index=False)"
      ],
      "metadata": {
        "id": "O8c6_jsnIpUY"
      },
      "execution_count": 30,
      "outputs": []
    }
  ],
  "metadata": {
    "colab": {
      "provenance": [],
      "collapsed_sections": [
        "PCPBlz9P-RFB",
        "b-LVk41M-aDx",
        "zsk-qr1SAG14"
      ]
    },
    "kernelspec": {
      "display_name": "Python 3",
      "name": "python3"
    },
    "language_info": {
      "name": "python"
    }
  },
  "nbformat": 4,
  "nbformat_minor": 0
}
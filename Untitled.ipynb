{
 "cells": [
  {
   "cell_type": "code",
   "execution_count": 1,
   "id": "16d3daae-c35a-4b5d-89e5-a9c8967f7293",
   "metadata": {},
   "outputs": [],
   "source": [
    "def solution(xs):\n",
    "    # Your code here\n",
    "    ans=\"1\"\n",
    "    arr=[]\n",
    "    k=[]\n",
    "    sig=0\n",
    "    if(len(xs)==1):\n",
    "        ans=str(xs[0])\n",
    "        return ans\n",
    "    for i in xs:\n",
    "        if(i!=0):\n",
    "            arr.append(i)\n",
    "        if(i<0):\n",
    "            sig=sig+1\n",
    "            k.append(i)\n",
    "\n",
    "    if(sig%2==1):\n",
    "        va=max(k)\n",
    "        for x,i in enumerate (arr):\n",
    "            if(va==i):\n",
    "                arr.pop(x)\n",
    "                break\n",
    "    # print(arr)\n",
    "    if(len(arr)==0):\n",
    "        stri=\"0\"\n",
    "        return stri\n",
    "    fin=[1]\n",
    "    for p in arr:\n",
    "        stri=[]\n",
    "        reg=abs(p);\n",
    "        while(reg>0):\n",
    "            stri.append(reg%10)\n",
    "            reg=reg-reg%10\n",
    "            reg=reg/10\n",
    "        tem=[]\n",
    "        for x,i in enumerate(stri):\n",
    "            for y,j in enumerate(fin):\n",
    "                if(x+y>=len(tem)):\n",
    "                    tem.append(i*j)\n",
    "                else:\n",
    "                    tem[x+y]=tem[x+y]+i*j\n",
    "        for x,i in enumerate(tem):\n",
    "            if(i>=10):\n",
    "                if(x<len(tem)-1):\n",
    "                    gro=i-i%10\n",
    "                    gro=gro/10\n",
    "                    # gro=gro*2\n",
    "                    tem[x+1]=tem[x+1]+int(gro)\n",
    "                    tem[x]=tem[x]%10\n",
    "                else:\n",
    "                    gro=i-i%10\n",
    "                    gro=gro/10\n",
    "                    tem.append(int(gro))\n",
    "                    tem[x]=tem[x]%10\n",
    "        # print(tem)\n",
    "        fin=tem\n",
    "    siz=len(fin)\n",
    "    ans=\"\"\n",
    "    for i in range(siz):\n",
    "        ans=ans+str(int(fin[-i-1]))\n",
    "    return ans"
   ]
  },
  {
   "cell_type": "code",
   "execution_count": 2,
   "id": "9825b62e-2469-41ba-92c0-7433647d31c1",
   "metadata": {},
   "outputs": [
    {
     "data": {
      "text/plain": [
       "'12'"
      ]
     },
     "execution_count": 2,
     "metadata": {},
     "output_type": "execute_result"
    }
   ],
   "source": [
    "xs=[1]\n",
    "gr=[-1,3,4]\n",
    "solution(gr)"
   ]
  },
  {
   "cell_type": "code",
   "execution_count": 4,
   "id": "5fcd44d3-3210-4b8f-85a1-2520620bdbda",
   "metadata": {},
   "outputs": [
    {
     "ename": "NameError",
     "evalue": "name 'scaled' is not defined",
     "output_type": "error",
     "traceback": [
      "\u001b[0;31m---------------------------------------------------------------------------\u001b[0m",
      "\u001b[0;31mNameError\u001b[0m                                 Traceback (most recent call last)",
      "Cell \u001b[0;32mIn[4], line 3\u001b[0m\n\u001b[1;32m      1\u001b[0m \u001b[38;5;28;01mfrom\u001b[39;00m \u001b[38;5;21;01msklearn\u001b[39;00m\u001b[38;5;21;01m.\u001b[39;00m\u001b[38;5;21;01mdecomposition\u001b[39;00m \u001b[38;5;28;01mimport\u001b[39;00m PCA\n\u001b[1;32m      2\u001b[0m pca\u001b[38;5;241m=\u001b[39mPCA(\u001b[38;5;241m50\u001b[39m)\n\u001b[0;32m----> 3\u001b[0m pca\u001b[38;5;241m.\u001b[39mfit(\u001b[43mscaled\u001b[49m)\n\u001b[1;32m      4\u001b[0m x_pca\u001b[38;5;241m=\u001b[39mpca\u001b[38;5;241m.\u001b[39mtransform(scaled)\n\u001b[1;32m      5\u001b[0m x_pca\n",
      "\u001b[0;31mNameError\u001b[0m: name 'scaled' is not defined"
     ]
    }
   ],
   "source": [
    "from sklearn.decomposition import PCA\n",
    "pca=PCA(50)\n",
    "pca.fit(scaled)\n",
    "x_pca=pca.transform(scaled)\n",
    "x_pca\n",
    "x_test_pca=pca.transform(test_scaled)"
   ]
  },
  {
   "cell_type": "code",
   "execution_count": 153,
   "id": "25b2921b-b79a-488c-90dc-93997d8e0031",
   "metadata": {},
   "outputs": [],
   "source": [
    "def post(arr,n,t,ind):\n",
    "    bn=n\n",
    "    bt=t\n",
    "    bind=ind\n",
    "    if(2*ind>=t):\n",
    "        arr[ind-1]=bn\n",
    "        bn=bn+1\n",
    "        return bn\n",
    "    else:\n",
    "        bn=post(arr,bn,t,2*ind)\n",
    "        bn=post(arr,bn,t,2*ind+1)\n",
    "        arr[ind-1]=bn\n",
    "        bn=bn+1\n",
    "        return bn\n",
    "\n",
    "\n",
    "def solution(h, q):\n",
    "    arr=[]\n",
    "    brr=[]\n",
    "    t=1<<h\n",
    "    t=t-1\n",
    "    for i in range(t):\n",
    "        arr.append(-1)\n",
    "        brr.append(-1)\n",
    "    n=post(arr,1,t,1)\n",
    "    for i in range(t):\n",
    "        brr[arr[i]-1]=arr[int((i+1)/2)-1]\n",
    "    brr[t-1]=-1\n",
    "    ans=[]\n",
    "    for i in range(len(q)):\n",
    "        ans.append(brr[q[i]-1])\n",
    "    return ans"
   ]
  },
  {
   "cell_type": "code",
   "execution_count": 154,
   "id": "70bee93e-574c-49a7-b403-d070ba6760ff",
   "metadata": {},
   "outputs": [
    {
     "data": {
      "text/plain": [
       "[3, 7, 13]"
      ]
     },
     "execution_count": 154,
     "metadata": {},
     "output_type": "execute_result"
    }
   ],
   "source": [
    "solution(4,[2,3,12])"
   ]
  },
  {
   "cell_type": "code",
   "execution_count": 97,
   "id": "cfc9db98-98dd-4cc8-96d0-71b326b98416",
   "metadata": {},
   "outputs": [],
   "source": [
    "def por(n):\n",
    "    n.append(4)"
   ]
  },
  {
   "cell_type": "code",
   "execution_count": 101,
   "id": "f984ab5f-e874-49ec-be1f-6686dbe63b01",
   "metadata": {},
   "outputs": [
    {
     "data": {
      "text/plain": [
       "[4, 4]"
      ]
     },
     "execution_count": 101,
     "metadata": {},
     "output_type": "execute_result"
    }
   ],
   "source": []
  },
  {
   "cell_type": "code",
   "execution_count": 37,
   "id": "d556ec33-f787-464d-bbe2-0cac4066b7f6",
   "metadata": {},
   "outputs": [],
   "source": [
    "def help(n,ma,t,drr):\n",
    "    ans=0\n",
    "    if drr[n][ma]!=-1:\n",
    "        return drr[n][ma]\n",
    "    if n==0:\n",
    "            return 1\n",
    "    if ma==0:\n",
    "            return 0\n",
    "    k=min(n,ma)\n",
    "    for i in range(k):\n",
    "        t[0]=t[0]+1\n",
    "        if drr[n-1-i][i]==-1:\n",
    "            drr[n-1-i][i]=help(n-i-1,i,t,drr)\n",
    "        ans=ans+drr[n-1-i][i]\n",
    "    return ans\n",
    "\n",
    "def solution(n):\n",
    "    t=[0]\n",
    "    drr=[]\n",
    "    for i in range(n+1):\n",
    "        brr=[]\n",
    "        for j in range(n+1):\n",
    "            brr.append(-1)\n",
    "        drr.append(brr)\n",
    "    ans=help(n,n,t,drr)\n",
    "    return ans-1\n",
    "                "
   ]
  },
  {
   "cell_type": "code",
   "execution_count": 38,
   "id": "c5bbad28-4d8f-4cf7-8f82-068f28a9cc0d",
   "metadata": {},
   "outputs": [
    {
     "data": {
      "text/plain": [
       "487067745"
      ]
     },
     "execution_count": 38,
     "metadata": {},
     "output_type": "execute_result"
    }
   ],
   "source": [
    "solution(200)"
   ]
  },
  {
   "cell_type": "code",
   "execution_count": 27,
   "id": "2c49bbc0-6f0e-4fe1-adf7-09213226c8a9",
   "metadata": {},
   "outputs": [
    {
     "data": {
      "text/plain": [
       "-1"
      ]
     },
     "execution_count": 27,
     "metadata": {},
     "output_type": "execute_result"
    }
   ],
   "source": [
    " drr=[]\n",
    "n=7\n",
    "for i in range(n):\n",
    "    brr=[]\n",
    "    for j in range(n):\n",
    "        brr.append(-1)\n",
    "    drr.append(brr)"
   ]
  },
  {
   "cell_type": "code",
   "execution_count": 44,
   "id": "d3398d2a-1a9d-4370-b674-6fe2ce9c28bf",
   "metadata": {},
   "outputs": [],
   "source": [
    "def solution(l):\n",
    "    drr=[]\n",
    "    si=len(l)\n",
    "    for i in range (si):\n",
    "        krr=[]\n",
    "        drr.append(krr)\n",
    "    for i in range(si):\n",
    "        for j in range (si-i-1):\n",
    "            if l[i+1+j]%l[i]==0:\n",
    "                drr[i].append(i+1+j)\n",
    "    ans=0\n",
    "    for i in range(si):\n",
    "        l=len(drr[i])\n",
    "        for j in range (l):\n",
    "            ans=ans+len(drr[drr[i][j]])\n",
    "    return ans"
   ]
  },
  {
   "cell_type": "code",
   "execution_count": 46,
   "id": "f69b3b16-9847-45a5-9b66-e644d93a1926",
   "metadata": {},
   "outputs": [
    {
     "data": {
      "text/plain": [
       "3"
      ]
     },
     "execution_count": 46,
     "metadata": {},
     "output_type": "execute_result"
    }
   ],
   "source": [
    "l=[1,2,3,4,5,6]\n",
    "solution (l)"
   ]
  },
  {
   "cell_type": "code",
   "execution_count": 69,
   "id": "e731bfcf-e5c3-4a52-b363-eeb45d02bb78",
   "metadata": {},
   "outputs": [],
   "source": [
    "def solution(start, length):\n",
    "    k=length\n",
    "    t=0\n",
    "    ans=0\n",
    "    g=start\n",
    "    for i in range (length):\n",
    "        u=0\n",
    "        v=0\n",
    "        h=g+k-1\n",
    "        if g%4==0:\n",
    "            u=g\n",
    "        elif g%4==1:\n",
    "            u=1\n",
    "        elif g%4==2:\n",
    "            u=g+1\n",
    "        if h%4==0:\n",
    "            v=h\n",
    "        elif h%4==1:\n",
    "            v=1\n",
    "        elif h%4==2:\n",
    "            v=h+1\n",
    "        # print(u,v,g)\n",
    "        ans=ans^u^v^g\n",
    "        g=g+length\n",
    "        k=k-1\n",
    "    return ans"
   ]
  },
  {
   "cell_type": "code",
   "execution_count": 70,
   "id": "b78af16c-ae31-41ed-b592-742b8cac733f",
   "metadata": {},
   "outputs": [
    {
     "data": {
      "text/plain": [
       "17"
      ]
     },
     "execution_count": 70,
     "metadata": {},
     "output_type": "execute_result"
    }
   ],
   "source": [
    "solution(17,1)"
   ]
  },
  {
   "cell_type": "code",
   "execution_count": null,
   "id": "5d429963-94d0-4d16-9db1-6b53914adf71",
   "metadata": {},
   "outputs": [],
   "source": []
  },
  {
   "cell_type": "code",
   "execution_count": 57,
   "id": "fd601f13-767c-4841-a793-fca5e788f7b2",
   "metadata": {},
   "outputs": [],
   "source": [
    "def kar(n):\n",
    "    drr=[]\n",
    "    t=1\n",
    "    drr.append(0)\n",
    "    for i in range(n):\n",
    "        drr.append(drr[i]^t)\n",
    "        t=t+1\n",
    "    return drr"
   ]
  },
  {
   "cell_type": "code",
   "execution_count": 58,
   "id": "73354ec1-3150-4221-9671-91b0e754303f",
   "metadata": {},
   "outputs": [
    {
     "data": {
      "text/plain": [
       "[0, 1, 3, 0, 4, 1, 7, 0, 8, 1, 11, 0]"
      ]
     },
     "execution_count": 58,
     "metadata": {},
     "output_type": "execute_result"
    }
   ],
   "source": [
    "kar(11)"
   ]
  },
  {
   "cell_type": "code",
   "execution_count": 62,
   "id": "ef7683b4-aa46-427b-8431-e4b861c0aef9",
   "metadata": {},
   "outputs": [],
   "source": [
    "def bfs(s,e,path,entrances):\n",
    "    visited = [0] * len(path[s])\n",
    "    # for i in entrances:\n",
    "    #     visited[i]=1\n",
    "    visited[s]=0\n",
    "    parr = [-1] * len(path[s])\n",
    "    qu=[]\n",
    "    qu.append(s)\n",
    "    while(len(qu)>0):\n",
    "        for x,i in enumerate (path[qu[0]]):\n",
    "            if visited[qu[0]]==1:\n",
    "                break\n",
    "            if i>0:\n",
    "                if visited[x]==0:\n",
    "                    qu.append(x)\n",
    "                    parr[x]=qu[0]\n",
    "                if x==e:\n",
    "                    return parr\n",
    "        visited[qu[0]]=1\n",
    "        qu.pop(0)\n",
    "    return parr\n",
    "        \n",
    "def solution(entrances, exits, path):\n",
    "    ans=0\n",
    "    enter=[0]*(2+len(path[0]))\n",
    "    exit=[0]*(2+len(path[0]))\n",
    "    for i in range(len(path[0])):\n",
    "        path[i].insert(0,0)\n",
    "        path[i].append(0)\n",
    "    path.insert(0,enter)\n",
    "    path.append(exit)\n",
    "    for i in entrances:\n",
    "        path[0][i+1]=2000000\n",
    "    for i in exits:\n",
    "        path[i+1][len(path[0])-1]=2000000\n",
    "    # print (path)          \n",
    "    ben=True\n",
    "    while(ben):\n",
    "        arr=bfs(0,len(path[0])-1,path,entrances)\n",
    "        # print(arr)\n",
    "        if arr[len(path[0])-1]==-1:\n",
    "            break\n",
    "        else:\n",
    "            k=arr[len(path[0])-1]\n",
    "            l=len(path[0])-1\n",
    "            brr=path[k][l]\n",
    "            while k!=-1:\n",
    "                brr=min(brr,path[k][l])\n",
    "                k=arr[k]\n",
    "                l=arr[l]\n",
    "            k=arr[len(path[0])-1]\n",
    "            l=len(path[0])-1\n",
    "            ans=ans+brr\n",
    "            while k!=-1:\n",
    "                path[k][l]=path[k][l]-brr\n",
    "                k=arr[k]\n",
    "                l=arr[l]\n",
    "    return ans\n",
    "    "
   ]
  },
  {
   "cell_type": "code",
   "execution_count": 63,
   "id": "99fb04f4-6ab3-4862-8280-005e85e272dc",
   "metadata": {},
   "outputs": [
    {
     "data": {
      "text/plain": [
       "8"
      ]
     },
     "execution_count": 63,
     "metadata": {},
     "output_type": "execute_result"
    }
   ],
   "source": [
    "path=[[0, 0, 4, 0, 0, 0], [0, 0, 0, 0, 4, 0], [0, 4, 0, 0, 0, 4], [0, 0, 0, 0, 0, 0], [0, 0, 0, 0, 0, 0], [0, 0, 0, 0, 0, 0]]\n",
    "s=[0,1]\n",
    "e=[4,5]\n",
    "solution(s,e,path)"
   ]
  },
  {
   "cell_type": "code",
   "execution_count": 86,
   "id": "e5448b09-659a-4692-b4b7-1c7ff7e5d750",
   "metadata": {},
   "outputs": [],
   "source": [
    "class Edge:\n",
    "    def __init__(self, to, capacity, flow):\n",
    "        self.to = to\n",
    "        self.capacity = capacity\n",
    "        self.flow = flow\n",
    "        self.rev = None  # Added to keep track of the reverse edge\n",
    "\n",
    "\n",
    "def add_edge(graph, from_, to, capacity):\n",
    "    forward_edge = Edge(to, capacity, 0)\n",
    "    backward_edge = Edge(from_, 0, 0)\n",
    "    forward_edge.rev = backward_edge\n",
    "    backward_edge.rev = forward_edge\n",
    "    graph[from_].append(forward_edge)\n",
    "    graph[to].append(backward_edge)\n",
    "\n",
    "\n",
    "def bfs(graph, level, src, dest):\n",
    "    level[src] = 0\n",
    "    queue = [src]\n",
    "    while queue:\n",
    "        current = queue.pop(0)\n",
    "        for edge in graph[current]:\n",
    "            if level[edge.to] < 0 and edge.flow < edge.capacity:\n",
    "                level[edge.to] = level[current] + 1\n",
    "                queue.append(edge.to)\n",
    "    return level[dest] >= 0\n",
    "\n",
    "\n",
    "def dfs(graph, current, dest, blocking_flow, level, ptr):\n",
    "    if current == dest:\n",
    "        return blocking_flow\n",
    "\n",
    "    while ptr[current] < len(graph[current]):\n",
    "        edge = graph[current][ptr[current]]\n",
    "        if level[edge.to] == level[current] + 1 and edge.flow < edge.capacity:\n",
    "            augment_flow = dfs(graph, edge.to, dest, min(blocking_flow, edge.capacity - edge.flow), level, ptr)\n",
    "            if augment_flow is not None and augment_flow > 0:\n",
    "                edge.flow += augment_flow\n",
    "                edge.rev.flow -= augment_flow  # Update the reverse edge's flow\n",
    "                return augment_flow\n",
    "        ptr[current] += 1\n",
    "\n",
    "    return None  # Return None when no augmenting path is found\n",
    "\n",
    "def dinic(graph, src, dest):\n",
    "    max_flow = 0\n",
    "\n",
    "    while True:\n",
    "        level = [-1] * len(graph)\n",
    "        if not bfs(graph, level, src, dest):\n",
    "            break\n",
    "\n",
    "        ptr = [0] * len(graph)\n",
    "        while True:\n",
    "            blocking_flow = dfs(graph, src, dest, float('inf'), level, ptr)\n",
    "            if blocking_flow is None or blocking_flow <= 0:\n",
    "                break\n",
    "            max_flow += blocking_flow\n",
    "\n",
    "    return max_flow\n",
    "\n",
    "\n",
    "\n",
    "def solution(entrances, exits, path):\n",
    "    enter=[0]*(2+len(path[0]))\n",
    "    exit=[0]*(2+len(path[0]))\n",
    "    for i in range(len(path[0])):\n",
    "        path[i].insert(0,0)\n",
    "        path[i].append(0)\n",
    "    path.insert(0,enter)\n",
    "    path.append(exit)\n",
    "    for i in entrances:\n",
    "        path[0][i+1]=2000000\n",
    "    for i in exits:\n",
    "        path[i+1][len(path[0])-1]=2000000\n",
    "    graph = [[] for _ in range(len(path[0]))]\n",
    "    for i in range(len(path[0])):\n",
    "        for j in range(len(path[0])):\n",
    "            add_edge(graph, i, j, path[i][j])\n",
    "    max_flow = dinic(graph, 0, len(path[0])-1)\n",
    "    return max_flow\n"
   ]
  },
  {
   "cell_type": "code",
   "execution_count": 87,
   "id": "87c8c7a2-8aaa-4fad-afd2-6a4f211bb482",
   "metadata": {},
   "outputs": [
    {
     "data": {
      "text/plain": [
       "8"
      ]
     },
     "execution_count": 87,
     "metadata": {},
     "output_type": "execute_result"
    }
   ],
   "source": [
    "path=[[0, 0, 4, 0, 0, 0], [0, 0, 0, 0, 4, 0], [0, 4, 0, 0, 0, 4], [0, 0, 0, 0, 0, 0], [0, 0, 0, 0, 0, 0], [0, 0, 0, 0, 0, 0]]\n",
    "s=[0,1]\n",
    "e=[4,5]\n",
    "solution(s,e,path)"
   ]
  },
  {
   "cell_type": "code",
   "execution_count": null,
   "id": "647d52b2-ed6e-47b6-8e92-318a03d4b4a1",
   "metadata": {},
   "outputs": [],
   "source": []
  }
 ],
 "metadata": {
  "kernelspec": {
   "display_name": "Python 3 (ipykernel)",
   "language": "python",
   "name": "python3"
  },
  "language_info": {
   "codemirror_mode": {
    "name": "ipython",
    "version": 3
   },
   "file_extension": ".py",
   "mimetype": "text/x-python",
   "name": "python",
   "nbconvert_exporter": "python",
   "pygments_lexer": "ipython3",
   "version": "3.10.12"
  }
 },
 "nbformat": 4,
 "nbformat_minor": 5
}

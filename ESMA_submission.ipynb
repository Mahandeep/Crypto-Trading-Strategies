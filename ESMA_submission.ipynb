{
  "nbformat": 4,
  "nbformat_minor": 0,
  "metadata": {
    "colab": {
      "provenance": []
    },
    "kernelspec": {
      "name": "python3",
      "display_name": "Python 3"
    },
    "language_info": {
      "name": "python"
    }
  },
  "cells": [
    {
      "cell_type": "code",
      "execution_count": null,
      "metadata": {
        "id": "MpoiieDhGlCo"
      },
      "outputs": [],
      "source": [
        "import numpy as np\n",
        "import pandas as pd"
      ]
    },
    {
      "cell_type": "code",
      "source": [
        "# Set fileName, and run all.\n",
        "# logs.csv will contain the required data\n",
        "\n",
        "fileName = 'btcusdt_1h.csv'"
      ],
      "metadata": {
        "id": "AgospIFhHMHp"
      },
      "execution_count": null,
      "outputs": []
    },
    {
      "cell_type": "code",
      "source": [
        "df = pd.read_csv(fileName)"
      ],
      "metadata": {
        "id": "7t0RddyAGqre"
      },
      "execution_count": null,
      "outputs": []
    },
    {
      "cell_type": "code",
      "source": [
        "def ESMA(df):\n",
        "  length = 30\n",
        "  multiplier = 3\n",
        "  atrLength = 14\n",
        "  exp = True\n",
        "  def ESMA(df,exp, period, column=\"close\"):\n",
        "    if exp == True:\n",
        "      return df[column].ewm(span=period, adjust=False).mean()\n",
        "    else:\n",
        "      return df[column].rolling(window=period).mean()\n",
        "\n",
        "  df[\"ma\"] = ESMA(df,exp,length)\n",
        "  # rangema = ATR LOGIC #### TODO ####\n",
        "  df['High-Low'] = df['high'] - df['low']\n",
        "  df['High-PrevClose'] = np.abs(df['high'] - df['close'].shift(1))\n",
        "  df['Low-PrevClose'] = np.abs(df['low'] - df['close'].shift(1))\n",
        "  df['TrueRange'] = df[['High-Low', 'High-PrevClose', 'Low-PrevClose']].max(axis=1)\n",
        "  df[\"rangema\"] = df['TrueRange'].rolling(window=atrLength).mean()\n",
        "  df[\"upper\"] = df[\"ma\"] + df[\"rangema\"]*multiplier\n",
        "  df[\"lower\"] = df[\"ma\"] - df[\"rangema\"] *multiplier\n",
        "  df[\"crossUpper\"] = 0\n",
        "  df[\"crossLower\"] = 0\n",
        "  df[\"bprice\"] = 0\n",
        "  df[\"sprice\"] = 0\n",
        "  df[\"BCond\"] = 0\n",
        "  df[\"SCond\"] = 0  # Same as cross upper and cross lower(unless there are nan values, none in our case)\n",
        "  df[\"CancelBCond\"] = 0\n",
        "  df[\"CancelSCond\"] = 0\n",
        "  for i in range(1,len(df)):\n",
        "    df.loc[i,\"crossUpper\"] = int(df.loc[i-1, \"close\"]< df.loc[i-1, \"upper\"] and df.loc[i,\"close\"]>df.loc[i,\"upper\"])\n",
        "    df.loc[i,\"crossLower\"] = int(df.loc[i-1, \"close\"] > df.loc[i-1, \"lower\"] and df.loc[i,\"close\"]<df.loc[i,\"lower\"])\n",
        "    df.loc[i,\"bprice\"] = df.loc[i,\"high\"] + df.loc[:i,\"high\"].min() if df.loc[i,\"crossUpper\"] == 1 else df.loc[i-1,\"bprice\"]\n",
        "    df.loc[i,\"sprice\"] = df.loc[i,\"low\"] - df.loc[:i,\"low\"].min() if df.loc[i,\"crossLower\"] == 1 else df.loc[i-1,\"bprice\"]\n",
        "    df.loc[i,\"BCond\"] = df.loc[i,\"close\"]>df.loc[i,\"upper\"]\n",
        "    df.loc[i,\"SCond\"] = df.loc[i,\"close\"]<df.loc[i,\"lower\"]\n",
        "    df.loc[i,\"CancelBCond\"] = df.loc[i,\"BCond\"] and (df.loc[i,\"close\"]<df.loc[i,\"ma\"] or df.loc[i,\"high\"]>=df.loc[i,\"bprice\"])\n",
        "    df.loc[i, \"CancelSCond\"] = df.loc[i,\"SCond\"] and (df.loc[i,\"close\"]>df.loc[i,\"ma\"] or df.loc[i,\"low\"]<=df.loc[i,\"sprice\"])\n",
        "  position = 0\n",
        "\n",
        "  df[\"signals\"] = 0\n",
        "  for i in range(20,len(df)):\n",
        "    if df.loc[i,\"BCond\"] == 1:\n",
        "      if position != 1:\n",
        "        df.loc[i,\"signals\"] = 1\n",
        "        position +=1\n",
        "    elif df.loc[i,\"SCond\"]==1:\n",
        "      if position != -1:\n",
        "        df.loc[i,\"signals\"] = -1\n",
        "        position -= 1\n",
        "    elif df.loc[i,\"CancelBCond\"] == 1 and position == 1:\n",
        "      df.loc[i,\"signals\"] = -1\n",
        "      position -=1\n",
        "    elif df.loc[i,\"CancelSCond\"] == 1 and position == -1:\n",
        "      df.loc[i,\"signals\"] = 1\n",
        "      position +=1\n",
        "    else:\n",
        "      df.loc[i,\"signals\"] = 0\n",
        "\n",
        "  df['Index'] = range(0,len(df))\n",
        "  df = df[['Index','datetime','open','high','low','close','volume','signals']]\n",
        "  df.to_csv('logs.csv',encoding='utf-8',index=False)"
      ],
      "metadata": {
        "id": "FKtUcCJYHPg7"
      },
      "execution_count": null,
      "outputs": []
    },
    {
      "cell_type": "code",
      "source": [
        "ESMA(df)"
      ],
      "metadata": {
        "id": "jzEzNKlgH9QF"
      },
      "execution_count": null,
      "outputs": []
    },
    {
      "cell_type": "code",
      "source": [],
      "metadata": {
        "id": "ohkfWxZLH_IP"
      },
      "execution_count": null,
      "outputs": []
    }
  ]
}
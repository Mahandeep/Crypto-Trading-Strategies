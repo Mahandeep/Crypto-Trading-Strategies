{
  "nbformat": 4,
  "nbformat_minor": 0,
  "metadata": {
    "colab": {
      "provenance": []
    },
    "kernelspec": {
      "name": "python3",
      "display_name": "Python 3"
    },
    "language_info": {
      "name": "python"
    }
  },
  "cells": [
    {
      "cell_type": "code",
      "execution_count": 2,
      "metadata": {
        "id": "7EXVXsRZGazW"
      },
      "outputs": [],
      "source": [
        "import pandas as pd\n",
        "import numpy as np"
      ]
    },
    {
      "cell_type": "code",
      "source": [
        "# Set fileName, and run all.\n",
        "# logs.csv will contain the required data\n",
        "#Updated code\n",
        "fileName = 'btcusdt_1h.csv'"
      ],
      "metadata": {
        "id": "29dhsG8eGjHl"
      },
      "execution_count": 3,
      "outputs": []
    },
    {
      "cell_type": "code",
      "source": [
        "df = pd.read_csv(fileName)\n"
      ],
      "metadata": {
        "id": "pHGRYNivGsb1"
      },
      "execution_count": 4,
      "outputs": []
    },
    {
      "cell_type": "code",
      "source": [
        "def cmf(df, thresh=0):\n",
        "  df_hour = df.copy()\n",
        "  df_hour[\"datetime\"] = pd.to_datetime(df_hour[\"datetime\"])\n",
        "  df_hour.set_index(\"datetime\", inplace = True)\n",
        "\n",
        "  df_hour.shape\n",
        "\n",
        "  # Resampling to daily  frequency\n",
        "  df_day = pd.DataFrame()\n",
        "  df_day['open'] = df_hour.resample(\"D\").open.first()\n",
        "  df_day['close'] = df_hour.resample(\"D\").close.last()\n",
        "  df_day['high']=df_hour.resample(\"D\").high.max()\n",
        "  df_day['low'] = df_hour.resample(\"D\").low.min()\n",
        "  df_day['volume'] = df_hour.resample(\"D\").volume.sum()\n",
        "  df_day.reset_index(inplace=True)\n",
        "  # print(df_day)\n",
        "\n",
        "  df_hour.reset_index(inplace=True)\n",
        "  signals = np.zeros(df_day.shape[0])\n",
        "  MFV = df_day.volume*(2*df_day.close - df_day.low - df_day.high)/(df_day.high - df_day.low)\n",
        "  res = MFV.rolling(20).sum()/df_day.volume.rolling(20).sum()\n",
        "  pos = 0\n",
        "  for i in range(signals.shape[0]-1):\n",
        "      if res[i] > thresh and pos != 1:\n",
        "          signals[i+1] = 1\n",
        "          pos += 1\n",
        "      elif res[i] < -thresh and pos != -1:\n",
        "          signals[i+1] = -1\n",
        "          pos -= 1\n",
        "  df_day['signals'] = signals\n",
        "\n",
        "  signals1 = np.zeros(df.shape[0])\n",
        "  j = 0\n",
        "  for i in range(df.shape[0]-1):\n",
        "    if df_hour.datetime.iloc[i+1].day != df_hour.datetime.iloc[i].day:\n",
        "      signals1[i] = df_day.signals[j]\n",
        "      j+=1\n",
        "  df['signals'] = signals1\n",
        "\n",
        "  df['Index'] = range(0,len(df))\n",
        "  # df['signals'] = signals\n",
        "  df = df[['Index','datetime','open','high','low','close','volume','signals']]\n",
        "  df.to_csv('logs.csv',encoding='utf-8',index=False)"
      ],
      "metadata": {
        "id": "PpDnRyhqGjUs"
      },
      "execution_count": 5,
      "outputs": []
    },
    {
      "cell_type": "code",
      "source": [
        "cmf(df)"
      ],
      "metadata": {
        "id": "XHhtEAU5Gp4d"
      },
      "execution_count": 6,
      "outputs": []
    }
  ]
}
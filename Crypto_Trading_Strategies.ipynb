{
 "cells": [
  {
   "cell_type": "markdown",
   "metadata": {
    "id": "DnuI4g3zY_-d"
   },
   "source": [
    "#Downloading the required packages"
   ]
  },
  {
   "cell_type": "code",
   "execution_count": 1,
   "metadata": {
    "colab": {
     "base_uri": "https://localhost:8080/"
    },
    "executionInfo": {
     "elapsed": 16100,
     "status": "ok",
     "timestamp": 1704342922589,
     "user": {
      "displayName": "Manish Nayak ce22b069",
      "userId": "10791965710613807284"
     },
     "user_tz": -330
    },
    "id": "BpP6OvwONh7U",
    "outputId": "5e2261aa-215e-49bf-a92e-6249097e918c"
   },
   "outputs": [
    {
     "name": "stdout",
     "output_type": "stream",
     "text": [
      "Defaulting to user installation because normal site-packages is not writeable\n",
      "Requirement already satisfied: backtesting in /home/mahandeep/.local/lib/python3.10/site-packages (0.3.3)\n",
      "Requirement already satisfied: bokeh>=1.4.0 in /home/mahandeep/.local/lib/python3.10/site-packages (from backtesting) (3.3.2)\n",
      "Requirement already satisfied: numpy>=1.17.0 in /home/mahandeep/.local/lib/python3.10/site-packages (from backtesting) (1.25.2)\n",
      "Requirement already satisfied: pandas!=0.25.0,>=0.25.0 in /home/mahandeep/.local/lib/python3.10/site-packages (from backtesting) (2.0.3)\n",
      "Requirement already satisfied: Jinja2>=2.9 in /home/mahandeep/.local/lib/python3.10/site-packages (from bokeh>=1.4.0->backtesting) (3.1.2)\n",
      "Requirement already satisfied: contourpy>=1 in /home/mahandeep/.local/lib/python3.10/site-packages (from bokeh>=1.4.0->backtesting) (1.1.0)\n",
      "Requirement already satisfied: packaging>=16.8 in /home/mahandeep/.local/lib/python3.10/site-packages (from bokeh>=1.4.0->backtesting) (23.1)\n",
      "Requirement already satisfied: pillow>=7.1.0 in /usr/lib/python3/dist-packages (from bokeh>=1.4.0->backtesting) (9.0.1)\n",
      "Requirement already satisfied: PyYAML>=3.10 in /usr/lib/python3/dist-packages (from bokeh>=1.4.0->backtesting) (5.4.1)\n",
      "Requirement already satisfied: tornado>=5.1 in /home/mahandeep/.local/lib/python3.10/site-packages (from bokeh>=1.4.0->backtesting) (6.3.3)\n",
      "Requirement already satisfied: xyzservices>=2021.09.1 in /home/mahandeep/.local/lib/python3.10/site-packages (from bokeh>=1.4.0->backtesting) (2023.10.1)\n",
      "Requirement already satisfied: python-dateutil>=2.8.2 in /home/mahandeep/.local/lib/python3.10/site-packages (from pandas!=0.25.0,>=0.25.0->backtesting) (2.8.2)\n",
      "Requirement already satisfied: pytz>=2020.1 in /home/mahandeep/.local/lib/python3.10/site-packages (from pandas!=0.25.0,>=0.25.0->backtesting) (2023.3.post1)\n",
      "Requirement already satisfied: tzdata>=2022.1 in /home/mahandeep/.local/lib/python3.10/site-packages (from pandas!=0.25.0,>=0.25.0->backtesting) (2023.3)\n",
      "Requirement already satisfied: MarkupSafe>=2.0 in /home/mahandeep/.local/lib/python3.10/site-packages (from Jinja2>=2.9->bokeh>=1.4.0->backtesting) (2.1.3)\n",
      "Requirement already satisfied: six>=1.5 in /usr/lib/python3/dist-packages (from python-dateutil>=2.8.2->pandas!=0.25.0,>=0.25.0->backtesting) (1.16.0)\n",
      "\n",
      "\u001b[1m[\u001b[0m\u001b[34;49mnotice\u001b[0m\u001b[1;39;49m]\u001b[0m\u001b[39;49m A new release of pip is available: \u001b[0m\u001b[31;49m23.3.2\u001b[0m\u001b[39;49m -> \u001b[0m\u001b[32;49m24.0\u001b[0m\n",
      "\u001b[1m[\u001b[0m\u001b[34;49mnotice\u001b[0m\u001b[1;39;49m]\u001b[0m\u001b[39;49m To update, run: \u001b[0m\u001b[32;49mpip install --upgrade pip\u001b[0m\n"
     ]
    }
   ],
   "source": [
    "!pip3 install backtesting"
   ]
  },
  {
   "cell_type": "code",
   "execution_count": 2,
   "metadata": {
    "colab": {
     "base_uri": "https://localhost:8080/"
    },
    "executionInfo": {
     "elapsed": 6203,
     "status": "ok",
     "timestamp": 1704342928781,
     "user": {
      "displayName": "Manish Nayak ce22b069",
      "userId": "10791965710613807284"
     },
     "user_tz": -330
    },
    "id": "SbL6ysQq5JqA",
    "outputId": "15421513-c557-47cf-9eb2-bff02ae66e25"
   },
   "outputs": [
    {
     "name": "stdout",
     "output_type": "stream",
     "text": [
      "Defaulting to user installation because normal site-packages is not writeable\n",
      "Requirement already satisfied: pandas_ta in /home/mahandeep/.local/lib/python3.10/site-packages (0.3.14b0)\n",
      "Requirement already satisfied: pandas in /home/mahandeep/.local/lib/python3.10/site-packages (from pandas_ta) (2.0.3)\n",
      "Requirement already satisfied: python-dateutil>=2.8.2 in /home/mahandeep/.local/lib/python3.10/site-packages (from pandas->pandas_ta) (2.8.2)\n",
      "Requirement already satisfied: pytz>=2020.1 in /home/mahandeep/.local/lib/python3.10/site-packages (from pandas->pandas_ta) (2023.3.post1)\n",
      "Requirement already satisfied: tzdata>=2022.1 in /home/mahandeep/.local/lib/python3.10/site-packages (from pandas->pandas_ta) (2023.3)\n",
      "Requirement already satisfied: numpy>=1.21.0 in /home/mahandeep/.local/lib/python3.10/site-packages (from pandas->pandas_ta) (1.25.2)\n",
      "Requirement already satisfied: six>=1.5 in /usr/lib/python3/dist-packages (from python-dateutil>=2.8.2->pandas->pandas_ta) (1.16.0)\n",
      "\n",
      "\u001b[1m[\u001b[0m\u001b[34;49mnotice\u001b[0m\u001b[1;39;49m]\u001b[0m\u001b[39;49m A new release of pip is available: \u001b[0m\u001b[31;49m23.3.2\u001b[0m\u001b[39;49m -> \u001b[0m\u001b[32;49m24.0\u001b[0m\n",
      "\u001b[1m[\u001b[0m\u001b[34;49mnotice\u001b[0m\u001b[1;39;49m]\u001b[0m\u001b[39;49m To update, run: \u001b[0m\u001b[32;49mpip install --upgrade pip\u001b[0m\n"
     ]
    }
   ],
   "source": [
    "!pip3 install pandas_ta"
   ]
  },
  {
   "cell_type": "markdown",
   "metadata": {
    "id": "hlekHGvMZG4_"
   },
   "source": [
    "#Importing the required libraries and data"
   ]
  },
  {
   "cell_type": "code",
   "execution_count": 3,
   "metadata": {
    "colab": {
     "base_uri": "https://localhost:8080/"
    },
    "executionInfo": {
     "elapsed": 2427,
     "status": "ok",
     "timestamp": 1704294968795,
     "user": {
      "displayName": "Atmadip Goswamee ce22b045",
      "userId": "13783025086702199537"
     },
     "user_tz": -330
    },
    "id": "f6bOl-gA_xeM",
    "outputId": "b6da8fa4-995b-447a-8748-fd929cd2ba5e"
   },
   "outputs": [
    {
     "name": "stderr",
     "output_type": "stream",
     "text": [
      "/home/mahandeep/.local/lib/python3.10/site-packages/tqdm/auto.py:21: TqdmWarning: IProgress not found. Please update jupyter and ipywidgets. See https://ipywidgets.readthedocs.io/en/stable/user_install.html\n",
      "  from .autonotebook import tqdm as notebook_tqdm\n",
      "/home/mahandeep/.local/lib/python3.10/site-packages/backtesting/test/__init__.py:8: FutureWarning: The argument 'infer_datetime_format' is deprecated and will be removed in a future version. A strict version of it is now the default, see https://pandas.pydata.org/pdeps/0004-consistent-to-datetime-parsing.html. You can safely remove this argument.\n",
      "  return pd.read_csv(join(dirname(__file__), filename),\n",
      "/home/mahandeep/.local/lib/python3.10/site-packages/backtesting/test/__init__.py:8: FutureWarning: The argument 'infer_datetime_format' is deprecated and will be removed in a future version. A strict version of it is now the default, see https://pandas.pydata.org/pdeps/0004-consistent-to-datetime-parsing.html. You can safely remove this argument.\n",
      "  return pd.read_csv(join(dirname(__file__), filename),\n"
     ]
    }
   ],
   "source": [
    "import pandas as pd\n",
    "import numpy as np\n",
    "import pandas_ta as ta\n",
    "import matplotlib.pyplot as plt\n",
    "from backtesting import Strategy, Backtest\n",
    "from backtesting.lib import TrailingStrategy, crossover\n",
    "from backtesting.test import SMA"
   ]
  },
  {
   "cell_type": "code",
   "execution_count": 4,
   "metadata": {
    "id": "LMmldGA1_xeN"
   },
   "outputs": [],
   "source": [
    "import warnings\n",
    "warnings.filterwarnings('ignore')"
   ]
  },
  {
   "cell_type": "code",
   "execution_count": 5,
   "metadata": {
    "id": "UvZg0Mm8_xeO"
   },
   "outputs": [],
   "source": [
    "data=pd.read_csv('BTCUSDT-hourly-historical-price.csv', index_col='Unnamed: 0', parse_dates=True)\n",
    "# data.rename(columns={''})"
   ]
  },
  {
   "cell_type": "code",
   "execution_count": 6,
   "metadata": {
    "colab": {
     "base_uri": "https://localhost:8080/",
     "height": 424
    },
    "executionInfo": {
     "elapsed": 5,
     "status": "ok",
     "timestamp": 1704295010443,
     "user": {
      "displayName": "Atmadip Goswamee ce22b045",
      "userId": "13783025086702199537"
     },
     "user_tz": -330
    },
    "id": "a8OXXEOdODdq",
    "outputId": "941a0900-5616-4598-9c42-8eae76ee52bd"
   },
   "outputs": [
    {
     "data": {
      "text/html": [
       "<div>\n",
       "<style scoped>\n",
       "    .dataframe tbody tr th:only-of-type {\n",
       "        vertical-align: middle;\n",
       "    }\n",
       "\n",
       "    .dataframe tbody tr th {\n",
       "        vertical-align: top;\n",
       "    }\n",
       "\n",
       "    .dataframe thead th {\n",
       "        text-align: right;\n",
       "    }\n",
       "</style>\n",
       "<table border=\"1\" class=\"dataframe\">\n",
       "  <thead>\n",
       "    <tr style=\"text-align: right;\">\n",
       "      <th></th>\n",
       "      <th>open</th>\n",
       "      <th>high</th>\n",
       "      <th>low</th>\n",
       "      <th>close</th>\n",
       "      <th>volume</th>\n",
       "      <th>close_time</th>\n",
       "      <th>qav</th>\n",
       "      <th>num_trades</th>\n",
       "      <th>taker_base_vol</th>\n",
       "      <th>taker_quote_vol</th>\n",
       "      <th>ignore</th>\n",
       "      <th>a</th>\n",
       "      <th>b</th>\n",
       "    </tr>\n",
       "  </thead>\n",
       "  <tbody>\n",
       "    <tr>\n",
       "      <th>2017-08-17 04:00:00.000</th>\n",
       "      <td>4261.48</td>\n",
       "      <td>4313.62</td>\n",
       "      <td>4261.32</td>\n",
       "      <td>4308.83</td>\n",
       "      <td>47.181009</td>\n",
       "      <td>1502945999999</td>\n",
       "      <td>202366.138393</td>\n",
       "      <td>171</td>\n",
       "      <td>35.160503</td>\n",
       "      <td>150952.477943</td>\n",
       "      <td>7887.635513</td>\n",
       "      <td>NaN</td>\n",
       "      <td>NaN</td>\n",
       "    </tr>\n",
       "    <tr>\n",
       "      <th>2017-08-17 05:00:00.000</th>\n",
       "      <td>4308.83</td>\n",
       "      <td>4328.69</td>\n",
       "      <td>4291.37</td>\n",
       "      <td>4315.32</td>\n",
       "      <td>23.234916</td>\n",
       "      <td>1502949599999</td>\n",
       "      <td>100304.823567</td>\n",
       "      <td>102</td>\n",
       "      <td>21.448071</td>\n",
       "      <td>92608.279728</td>\n",
       "      <td>8039.262402</td>\n",
       "      <td>NaN</td>\n",
       "      <td>NaN</td>\n",
       "    </tr>\n",
       "    <tr>\n",
       "      <th>2017-08-17 06:00:00.000</th>\n",
       "      <td>4330.29</td>\n",
       "      <td>4345.45</td>\n",
       "      <td>4309.37</td>\n",
       "      <td>4324.35</td>\n",
       "      <td>7.229691</td>\n",
       "      <td>1502953199999</td>\n",
       "      <td>31282.312670</td>\n",
       "      <td>36</td>\n",
       "      <td>4.802861</td>\n",
       "      <td>20795.317224</td>\n",
       "      <td>8041.760498</td>\n",
       "      <td>NaN</td>\n",
       "      <td>NaN</td>\n",
       "    </tr>\n",
       "    <tr>\n",
       "      <th>2017-08-17 07:00:00.000</th>\n",
       "      <td>4316.62</td>\n",
       "      <td>4349.99</td>\n",
       "      <td>4287.41</td>\n",
       "      <td>4349.99</td>\n",
       "      <td>4.443249</td>\n",
       "      <td>1502956799999</td>\n",
       "      <td>19241.058300</td>\n",
       "      <td>25</td>\n",
       "      <td>2.602292</td>\n",
       "      <td>11291.347015</td>\n",
       "      <td>8048.127886</td>\n",
       "      <td>NaN</td>\n",
       "      <td>NaN</td>\n",
       "    </tr>\n",
       "    <tr>\n",
       "      <th>2017-08-17 08:00:00.000</th>\n",
       "      <td>4333.32</td>\n",
       "      <td>4377.85</td>\n",
       "      <td>4333.32</td>\n",
       "      <td>4360.69</td>\n",
       "      <td>0.972807</td>\n",
       "      <td>1502960399999</td>\n",
       "      <td>4239.503586</td>\n",
       "      <td>28</td>\n",
       "      <td>0.814655</td>\n",
       "      <td>3552.746817</td>\n",
       "      <td>8018.036500</td>\n",
       "      <td>NaN</td>\n",
       "      <td>NaN</td>\n",
       "    </tr>\n",
       "    <tr>\n",
       "      <th>...</th>\n",
       "      <td>...</td>\n",
       "      <td>...</td>\n",
       "      <td>...</td>\n",
       "      <td>...</td>\n",
       "      <td>...</td>\n",
       "      <td>...</td>\n",
       "      <td>...</td>\n",
       "      <td>...</td>\n",
       "      <td>...</td>\n",
       "      <td>...</td>\n",
       "      <td>...</td>\n",
       "      <td>...</td>\n",
       "      <td>...</td>\n",
       "    </tr>\n",
       "    <tr>\n",
       "      <th>2022-05-31 19:00:00</th>\n",
       "      <td>4503.00</td>\n",
       "      <td>4619.47</td>\n",
       "      <td>4488.33</td>\n",
       "      <td>4619.43</td>\n",
       "      <td>43.862768</td>\n",
       "      <td>1504713600000</td>\n",
       "      <td>199660.763882</td>\n",
       "      <td>441</td>\n",
       "      <td>29.557031</td>\n",
       "      <td>134755.081987</td>\n",
       "      <td>NaN</td>\n",
       "      <td>NaN</td>\n",
       "      <td>NaN</td>\n",
       "    </tr>\n",
       "    <tr>\n",
       "      <th>2022-05-31 20:00:00</th>\n",
       "      <td>4503.00</td>\n",
       "      <td>4619.47</td>\n",
       "      <td>4488.33</td>\n",
       "      <td>4619.43</td>\n",
       "      <td>43.862768</td>\n",
       "      <td>1504713600000</td>\n",
       "      <td>199660.763882</td>\n",
       "      <td>441</td>\n",
       "      <td>29.557031</td>\n",
       "      <td>134755.081987</td>\n",
       "      <td>NaN</td>\n",
       "      <td>NaN</td>\n",
       "      <td>NaN</td>\n",
       "    </tr>\n",
       "    <tr>\n",
       "      <th>2022-05-31 21:00:00</th>\n",
       "      <td>4503.00</td>\n",
       "      <td>4619.47</td>\n",
       "      <td>4488.33</td>\n",
       "      <td>4619.43</td>\n",
       "      <td>43.862768</td>\n",
       "      <td>1504713600000</td>\n",
       "      <td>199660.763882</td>\n",
       "      <td>441</td>\n",
       "      <td>29.557031</td>\n",
       "      <td>134755.081987</td>\n",
       "      <td>NaN</td>\n",
       "      <td>NaN</td>\n",
       "      <td>NaN</td>\n",
       "    </tr>\n",
       "    <tr>\n",
       "      <th>2022-05-31 22:00:00</th>\n",
       "      <td>4503.00</td>\n",
       "      <td>4619.47</td>\n",
       "      <td>4488.33</td>\n",
       "      <td>4619.43</td>\n",
       "      <td>43.862768</td>\n",
       "      <td>1504713600000</td>\n",
       "      <td>199660.763882</td>\n",
       "      <td>441</td>\n",
       "      <td>29.557031</td>\n",
       "      <td>134755.081987</td>\n",
       "      <td>NaN</td>\n",
       "      <td>NaN</td>\n",
       "      <td>NaN</td>\n",
       "    </tr>\n",
       "    <tr>\n",
       "      <th>2022-05-31 23:00:00</th>\n",
       "      <td>4503.00</td>\n",
       "      <td>4619.47</td>\n",
       "      <td>4488.33</td>\n",
       "      <td>4619.43</td>\n",
       "      <td>43.862768</td>\n",
       "      <td>1504713600000</td>\n",
       "      <td>199660.763882</td>\n",
       "      <td>441</td>\n",
       "      <td>29.557031</td>\n",
       "      <td>134755.081987</td>\n",
       "      <td>NaN</td>\n",
       "      <td>NaN</td>\n",
       "      <td>NaN</td>\n",
       "    </tr>\n",
       "  </tbody>\n",
       "</table>\n",
       "<p>41854 rows × 13 columns</p>\n",
       "</div>"
      ],
      "text/plain": [
       "                            open     high      low    close     volume  \\\n",
       "2017-08-17 04:00:00.000  4261.48  4313.62  4261.32  4308.83  47.181009   \n",
       "2017-08-17 05:00:00.000  4308.83  4328.69  4291.37  4315.32  23.234916   \n",
       "2017-08-17 06:00:00.000  4330.29  4345.45  4309.37  4324.35   7.229691   \n",
       "2017-08-17 07:00:00.000  4316.62  4349.99  4287.41  4349.99   4.443249   \n",
       "2017-08-17 08:00:00.000  4333.32  4377.85  4333.32  4360.69   0.972807   \n",
       "...                          ...      ...      ...      ...        ...   \n",
       "2022-05-31 19:00:00      4503.00  4619.47  4488.33  4619.43  43.862768   \n",
       "2022-05-31 20:00:00      4503.00  4619.47  4488.33  4619.43  43.862768   \n",
       "2022-05-31 21:00:00      4503.00  4619.47  4488.33  4619.43  43.862768   \n",
       "2022-05-31 22:00:00      4503.00  4619.47  4488.33  4619.43  43.862768   \n",
       "2022-05-31 23:00:00      4503.00  4619.47  4488.33  4619.43  43.862768   \n",
       "\n",
       "                            close_time            qav  num_trades  \\\n",
       "2017-08-17 04:00:00.000  1502945999999  202366.138393         171   \n",
       "2017-08-17 05:00:00.000  1502949599999  100304.823567         102   \n",
       "2017-08-17 06:00:00.000  1502953199999   31282.312670          36   \n",
       "2017-08-17 07:00:00.000  1502956799999   19241.058300          25   \n",
       "2017-08-17 08:00:00.000  1502960399999    4239.503586          28   \n",
       "...                                ...            ...         ...   \n",
       "2022-05-31 19:00:00      1504713600000  199660.763882         441   \n",
       "2022-05-31 20:00:00      1504713600000  199660.763882         441   \n",
       "2022-05-31 21:00:00      1504713600000  199660.763882         441   \n",
       "2022-05-31 22:00:00      1504713600000  199660.763882         441   \n",
       "2022-05-31 23:00:00      1504713600000  199660.763882         441   \n",
       "\n",
       "                         taker_base_vol  taker_quote_vol       ignore   a   b  \n",
       "2017-08-17 04:00:00.000       35.160503    150952.477943  7887.635513 NaN NaN  \n",
       "2017-08-17 05:00:00.000       21.448071     92608.279728  8039.262402 NaN NaN  \n",
       "2017-08-17 06:00:00.000        4.802861     20795.317224  8041.760498 NaN NaN  \n",
       "2017-08-17 07:00:00.000        2.602292     11291.347015  8048.127886 NaN NaN  \n",
       "2017-08-17 08:00:00.000        0.814655      3552.746817  8018.036500 NaN NaN  \n",
       "...                                 ...              ...          ...  ..  ..  \n",
       "2022-05-31 19:00:00           29.557031    134755.081987          NaN NaN NaN  \n",
       "2022-05-31 20:00:00           29.557031    134755.081987          NaN NaN NaN  \n",
       "2022-05-31 21:00:00           29.557031    134755.081987          NaN NaN NaN  \n",
       "2022-05-31 22:00:00           29.557031    134755.081987          NaN NaN NaN  \n",
       "2022-05-31 23:00:00           29.557031    134755.081987          NaN NaN NaN  \n",
       "\n",
       "[41854 rows x 13 columns]"
      ]
     },
     "execution_count": 6,
     "metadata": {},
     "output_type": "execute_result"
    }
   ],
   "source": [
    "data"
   ]
  },
  {
   "cell_type": "code",
   "execution_count": 7,
   "metadata": {
    "id": "abd0qQ3g_xeP"
   },
   "outputs": [],
   "source": [
    "train = data['2018-01-01':'2022-02-01']\n",
    "train=train[['open', 'high', 'low', 'close', 'volume']]"
   ]
  },
  {
   "cell_type": "code",
   "execution_count": 8,
   "metadata": {
    "colab": {
     "base_uri": "https://localhost:8080/"
    },
    "executionInfo": {
     "elapsed": 4,
     "status": "ok",
     "timestamp": 1704295011001,
     "user": {
      "displayName": "Atmadip Goswamee ce22b045",
      "userId": "13783025086702199537"
     },
     "user_tz": -330
    },
    "id": "-Np9lTSpEYuy",
    "outputId": "f347c3ad-2320-4722-e588-d41a9cec99ed"
   },
   "outputs": [
    {
     "data": {
      "text/plain": [
       "Index(['2018-01-01 00:00:00.000', '2018-01-01 01:00:00.000',\n",
       "       '2018-01-01 02:00:00.000', '2018-01-01 03:00:00.000',\n",
       "       '2018-01-01 04:00:00.000', '2018-01-01 05:00:00.000',\n",
       "       '2018-01-01 06:00:00.000', '2018-01-01 07:00:00.000',\n",
       "       '2018-01-01 08:00:00.000', '2018-01-01 09:00:00.000',\n",
       "       ...\n",
       "       '2022-01-31 14:00:00', '2022-01-31 15:00:00', '2022-01-31 16:00:00',\n",
       "       '2022-01-31 17:00:00', '2022-01-31 18:00:00', '2022-01-31 19:00:00',\n",
       "       '2022-01-31 20:00:00', '2022-01-31 21:00:00', '2022-01-31 22:00:00',\n",
       "       '2022-01-31 23:00:00'],\n",
       "      dtype='object', length=35690)"
      ]
     },
     "execution_count": 8,
     "metadata": {},
     "output_type": "execute_result"
    }
   ],
   "source": [
    "train.index"
   ]
  },
  {
   "cell_type": "markdown",
   "metadata": {
    "id": "-nNZVaq3Y1QM"
   },
   "source": [
    "#Technical Indicators Implementation"
   ]
  },
  {
   "cell_type": "code",
   "execution_count": 9,
   "metadata": {
    "colab": {
     "base_uri": "https://localhost:8080/",
     "height": 424
    },
    "executionInfo": {
     "elapsed": 7,
     "status": "ok",
     "timestamp": 1704295011466,
     "user": {
      "displayName": "Atmadip Goswamee ce22b045",
      "userId": "13783025086702199537"
     },
     "user_tz": -330
    },
    "id": "ogjkRSaG_xeQ",
    "outputId": "6ee7a865-52aa-4e34-cc14-589ce91eda14"
   },
   "outputs": [],
   "source": [
    "class TechnicalIndicators: #This class contains the methods for creating certain technical indicators, which are crucial in analyzing the dataset.\n",
    "    def __init__(self):\n",
    "        self.data=train\n",
    "        self.data['close_1']=self.data['close'].shift(1) #yesterday's close\n",
    "        self.data['close1']=self.data['close'].shift(-1) #tommorow's close\n",
    "        self.data['ret_1']=self.data['close']/self.data['close_1']-1 #yesterday's returns\n",
    "        self.data['ret1']=self.data['close1']/self.data['close']-1 #future returns\n",
    "        self.data['tret']=self.data['close']/self.data['open']-1 #today's returns\n",
    "        self.data['oret']=self.data['open']/self.data['close_1']-1 #overnight returns\n",
    "        self.data['10-day volatility']=self.data['close'].rolling(window=10).std() #10-day volatility\n",
    "        self.data.interpolate(method='linear', limit_direction='both', inplace=True) #Fill the empty nan values formed via linear interpolation\n",
    "\n",
    "\n",
    "    def MACD(self, short_time=9, long_time=26, signal_time=9): #MACD indicator\n",
    "        data=self.data\n",
    "        data[f'{short_time}_EMA']=data['close'].ewm(span=short_time, adjust=False).mean()\n",
    "        data[f'{long_time}_EMA']=data['close'].ewm(span=long_time, adjust=False).mean()\n",
    "        data['MACD_line']=data[f'{short_time}_EMA']-data[f'{long_time}_EMA'] #The MACD_line will have 9-day EMA - 26-day EMA\n",
    "        data['MACD_Signal_line']=data['MACD_line'].ewm(span=signal_time, adjust=False).mean() #MACD_Signal_line is 9-day EMA of MACD_line\n",
    "        data['MACD_Trend']=data['MACD_line']-data['MACD_Signal_line'] #MACD_trend will be the difference of the above two\n",
    "\n",
    "\n",
    "    def BollingerBands(self, window=14, mul_factor=2):\n",
    "        data=self.data\n",
    "        data['BB_Mid_line']=data.close.rolling(window=window).mean()\n",
    "        data['BB_Upper_band']=data['BB_Mid_line']+(mul_factor*data.close.rolling(window=window).std()) #the default window size is 14 days\n",
    "        data['BB_Lower_band']=data['BB_Mid_line']-(mul_factor*data.close.rolling(window=window).std()) #the default multiplying factor is 2\n",
    "        data['Bollinger_Width']=(data['BB_Upper_band']-data['BB_Lower_band'])\n",
    "\n",
    "    def RSI(self, look_back=14):\n",
    "        df = self.data.copy()\n",
    "\n",
    "        # Calculate daily price differences\n",
    "        df['diff'] = df['close'].diff()\n",
    "\n",
    "        # Separate gains and losses\n",
    "        df['Pts_gain'] = df['diff'].apply(lambda x: x if x > 0 else 0)\n",
    "        df['Pts_lost'] = df['diff'].apply(lambda x: -x if x < 0 else 0)\n",
    "\n",
    "        # Calculate average gains and losses\n",
    "        df['Avg_gain'] = df['Pts_gain'].rolling(window=look_back).mean()\n",
    "        df['Avg_loss'] = df['Pts_lost'].rolling(window=look_back).mean()\n",
    "\n",
    "        # Avoid division by zero\n",
    "        df['RS'] = df['Avg_gain'] / (df['Avg_loss'].replace(0, 1e-6))\n",
    "\n",
    "        # Calculate RSI\n",
    "        self.data['RSI'] = 100 - (100 / (1 + df['RS']))\n",
    "\n",
    "        return data\n",
    "\n",
    "\n",
    "    def CMF(self): #Chaikin Money Flow (gives a good estimate by calculating the money flowed in/out of an asset)\n",
    "        data=self.data\n",
    "        data['MF_Multiplier']=(2*data['close']-data['low']-data['high'])/(data['high']-data['low'])\n",
    "        data['MF_Volume']=data['MF_Multiplier']*data['volume']\n",
    "\n",
    "    def VWAP(self):\n",
    "      # Assuming you have OHLC data (Open, High, Low, Close) and Volume in your DataFrame\n",
    "      # You need to calculate Typical Price and Cumulative Volume first\n",
    "\n",
    "      # Calculate Typical Price\n",
    "      df=self.data\n",
    "      df['Typical_Price'] = (df['high'] + df['low'] + df['close']) / 3\n",
    "\n",
    "      # Calculate Cumulative Volume\n",
    "      df['Cumulative_Volume'] = df['volume'].cumsum()\n",
    "\n",
    "      # Calculate Cumulative TP * Volume\n",
    "      df['Cumulative_TP*Volume'] = df['Typical_Price'] * df['volume'].cumsum()\n",
    "\n",
    "      # Calculate VWAP\n",
    "      df['VWAP'] = df['Cumulative_TP*Volume'] / df['Cumulative_Volume']\n",
    "\n",
    "\n",
    "      #adv20- Average Daily Volume for the past 20 days\n",
    "      df['adv20']=df['volume'].rolling(window=20).mean()\n",
    "\n",
    "      # Drop intermediate columns if not needed\n",
    "      df = df.drop(['Typical_Price', 'Cumulative_Volume', 'Cumulative_TP*Volume'], axis=1)\n",
    "\n",
    "tc=TechnicalIndicators()\n",
    "tc.BollingerBands()\n",
    "tc.MACD()\n",
    "tc.CMF()\n",
    "tc.RSI()\n",
    "tc.VWAP()"
   ]
  },
  {
   "cell_type": "code",
   "execution_count": 10,
   "metadata": {
    "colab": {
     "base_uri": "https://localhost:8080/"
    },
    "executionInfo": {
     "elapsed": 6,
     "status": "ok",
     "timestamp": 1704295011467,
     "user": {
      "displayName": "Atmadip Goswamee ce22b045",
      "userId": "13783025086702199537"
     },
     "user_tz": -330
    },
    "id": "9962W7TT_xeR",
    "outputId": "8cd66eb7-1d2f-4408-c0f3-71f2f8fb2781"
   },
   "outputs": [
    {
     "name": "stdout",
     "output_type": "stream",
     "text": [
      "<class 'pandas.core.frame.DataFrame'>\n",
      "Index: 35690 entries, 2018-01-01 00:00:00.000 to 2022-01-31 23:00:00\n",
      "Data columns (total 29 columns):\n",
      " #   Column                Non-Null Count  Dtype  \n",
      "---  ------                --------------  -----  \n",
      " 0   Open                  35690 non-null  float64\n",
      " 1   High                  35690 non-null  float64\n",
      " 2   Low                   35690 non-null  float64\n",
      " 3   Close                 35690 non-null  float64\n",
      " 4   Volume                35690 non-null  float64\n",
      " 5   close_1               35690 non-null  float64\n",
      " 6   close1                35690 non-null  float64\n",
      " 7   ret_1                 35690 non-null  float64\n",
      " 8   ret1                  35690 non-null  float64\n",
      " 9   tret                  35690 non-null  float64\n",
      " 10  oret                  35690 non-null  float64\n",
      " 11  10-day volatility     35690 non-null  float64\n",
      " 12  BB_Mid_line           35677 non-null  float64\n",
      " 13  BB_Upper_band         35677 non-null  float64\n",
      " 14  BB_Lower_band         35677 non-null  float64\n",
      " 15  Bollinger_Width       35677 non-null  float64\n",
      " 16  9_EMA                 35690 non-null  float64\n",
      " 17  26_EMA                35690 non-null  float64\n",
      " 18  MACD_line             35690 non-null  float64\n",
      " 19  MACD_Signal_line      35690 non-null  float64\n",
      " 20  MACD_Trend            35690 non-null  float64\n",
      " 21  MF_Multiplier         35687 non-null  float64\n",
      " 22  MF_Volume             35687 non-null  float64\n",
      " 23  RSI                   35677 non-null  float64\n",
      " 24  Typical_Price         35690 non-null  float64\n",
      " 25  Cumulative_Volume     35690 non-null  float64\n",
      " 26  Cumulative_TP*Volume  35690 non-null  float64\n",
      " 27  VWAP                  35690 non-null  float64\n",
      " 28  adv20                 35671 non-null  float64\n",
      "dtypes: float64(29)\n",
      "memory usage: 8.2+ MB\n"
     ]
    }
   ],
   "source": [
    "train.rename(columns={'close':'Close','open':'Open', 'high':'High', 'low':'Low', 'volume':'Volume'}, inplace=True)\n",
    "train.info()\n"
   ]
  },
  {
   "cell_type": "markdown",
   "metadata": {
    "id": "YZq0rF9lWyS9"
   },
   "source": [
    "#Check for signals using MACD, RSI, EMA, VWAP and Volumes"
   ]
  },
  {
   "cell_type": "code",
   "execution_count": 11,
   "metadata": {
    "colab": {
     "base_uri": "https://localhost:8080/",
     "height": 143
    },
    "executionInfo": {
     "elapsed": 544,
     "status": "error",
     "timestamp": 1704302789829,
     "user": {
      "displayName": "Atmadip Goswamee ce22b045",
      "userId": "13783025086702199537"
     },
     "user_tz": -330
    },
    "id": "TcRP9CiI_xeR",
    "outputId": "97676721-ab15-432a-a9a7-40d1f738207e"
   },
   "outputs": [],
   "source": [
    "def check_macd_crossover(df):\n",
    "    df['macd_crossover'] = 0  # Initialize with 0\n",
    "    condition = (df['MACD_Trend'] > 0) & (df['MACD_Trend'].shift(1) < 0)\n",
    "    df.loc[condition, 'macd_crossover'] = 1\n",
    "    condition_neg = (df['MACD_Trend'] < 0) & (df['MACD_Trend'].shift(1) > 0)\n",
    "    df.loc[condition_neg, 'macd_crossover'] = -1\n",
    "    df['previous_macd_negative'] = df['MACD_Trend'].shift(1) < 0# False mean Crossdown\n",
    "\n",
    "def check_RSI_cond(df):\n",
    "    df['RSI_cond']=(df['RSI']<70) & (df['RSI']>30) #True means stock is not in overbought or oversold conditions\n",
    "\n",
    "def volume_cond(df):\n",
    "    df['Volume_cond']=df['Volume']>df['adv20'] #More volumes than average means significant investor activity. Might signal an important reversal\n",
    "\n",
    "def BB_cond(df):\n",
    "    df['bb_cond']=train['Bollinger_Width'].rolling(window=9).mean() < df['Bollinger_Width'].rolling(window=21).mean() #If the bandwidth is less than average, it mean it is a period of low volatility and hence, better trades\n",
    "\n",
    "def VWAP_cond(df):\n",
    "    df['vwap_cond']=df['VWAP'] > df['Close'] # VWAP is a good indicator of the mean level of the asset price. Price normally oscillates about this\n",
    "\n",
    "def EMA_cond(df):\n",
    "    df['ema_cond']=df['26_EMA'] > df['Close'] # If short window ema > long window ema -> bullish\n",
    "\n",
    "check_macd_crossover(train)\n",
    "check_RSI_cond(train)\n",
    "volume_cond(train)\n",
    "BB_cond(train)\n",
    "VWAP_cond(train)\n",
    "EMA_cond(train)"
   ]
  },
  {
   "cell_type": "markdown",
   "metadata": {
    "id": "QFycT9W35kGn"
   },
   "source": [
    "# Strategy 1"
   ]
  },
  {
   "cell_type": "code",
   "execution_count": 12,
   "metadata": {
    "id": "uabLers7_xeS"
   },
   "outputs": [],
   "source": [
    "class MyStrat(TrailingStrategy): #Daily mean reversion\n",
    "\n",
    "    def init(self):\n",
    "      super().init()\n",
    "      self.size=1-1e-20\n",
    "\n",
    "    def next(self):\n",
    "      super().next()\n",
    "      self.ret_1=self.data.ret_1\n",
    "      if self.ret_1[-1]>0: self.sell(size=self.size)\n",
    "      else: self.buy(size=self.size)\n",
    "\n",
    "\n",
    "bt=Backtest(train, MyStrat, cash=1000000, commission=0.0015, exclusive_orders=False)"
   ]
  },
  {
   "cell_type": "markdown",
   "metadata": {},
   "source": [
    "# Strategy 2"
   ]
  },
  {
   "cell_type": "code",
   "execution_count": 17,
   "metadata": {
    "id": "rTqFqUe-T0kf"
   },
   "outputs": [],
   "source": [
    "class MyStrat(Strategy): #Golden Cross and Golden Death\n",
    "\n",
    "    def init(self):\n",
    "      super().init()\n",
    "      self.size=1-1e-20\n",
    "      self.ema1=self.data['9_EMA']\n",
    "      self.ema2=self.data['26_EMA']\n",
    "\n",
    "    def next(self):\n",
    "      # super().next()\n",
    "\n",
    "      self.cross=self.ema1-self.ema2\n",
    "      if self.cross[-1]<0 and self.data.bb_cond: self.sell(size=self.size)\n",
    "      else: self.buy(size=self.size)\n",
    "\n",
    "bt=Backtest(train, MyStrat, cash=1000000, commission=0.0015, exclusive_orders=False)"
   ]
  },
  {
   "cell_type": "markdown",
   "metadata": {
    "id": "UOSmzTdlSPMW"
   },
   "source": [
    "# Default Strategy"
   ]
  },
  {
   "cell_type": "code",
   "execution_count": 14,
   "metadata": {
    "id": "lfm8HNWh5rOY"
   },
   "outputs": [],
   "source": [
    "class MyStrat(Strategy): #default\n",
    "    n1=10\n",
    "    n2=20\n",
    "    def init(self):\n",
    "      # super().init()\n",
    "      self.size=1 - 1e-20\n",
    "      close = self.data.Close\n",
    "      self.sma1 = self.I(SMA, close, self.n1)\n",
    "      self.sma2 = self.I(SMA, close, self.n2)\n",
    "    def next(self):\n",
    "      super().next()\n",
    "      if crossover(self.sma1, self.sma2): self.buy(size=self.size)\n",
    "      elif crossover(self.sma2, self.sma1): self.sell(size=self.size)\n",
    "\n",
    "bt=Backtest(train, MyStrat, cash=1000000, commission=0.0015, exclusive_orders=False)"
   ]
  },
  {
   "cell_type": "markdown",
   "metadata": {
    "id": "KFV58dBP5oXv"
   },
   "source": [
    "#Results"
   ]
  },
  {
   "cell_type": "code",
   "execution_count": 18,
   "metadata": {
    "colab": {
     "base_uri": "https://localhost:8080/"
    },
    "executionInfo": {
     "elapsed": 13924,
     "status": "ok",
     "timestamp": 1704302270543,
     "user": {
      "displayName": "Atmadip Goswamee ce22b045",
      "userId": "13783025086702199537"
     },
     "user_tz": -330
    },
    "id": "qBlTd_L9_xeT",
    "outputId": "489a79c1-e406-4f14-aa0f-e0fd98e785ff"
   },
   "outputs": [
    {
     "ename": "TypeError",
     "evalue": "unsupported operand type(s) for -: 'str' and 'str'",
     "output_type": "error",
     "traceback": [
      "\u001b[0;31m---------------------------------------------------------------------------\u001b[0m",
      "\u001b[0;31mTypeError\u001b[0m                                 Traceback (most recent call last)",
      "File \u001b[0;32m~/.local/lib/python3.10/site-packages/pandas/core/ops/array_ops.py:171\u001b[0m, in \u001b[0;36m_na_arithmetic_op\u001b[0;34m(left, right, op, is_cmp)\u001b[0m\n\u001b[1;32m    170\u001b[0m \u001b[38;5;28;01mtry\u001b[39;00m:\n\u001b[0;32m--> 171\u001b[0m     result \u001b[38;5;241m=\u001b[39m \u001b[43mfunc\u001b[49m\u001b[43m(\u001b[49m\u001b[43mleft\u001b[49m\u001b[43m,\u001b[49m\u001b[43m \u001b[49m\u001b[43mright\u001b[49m\u001b[43m)\u001b[49m\n\u001b[1;32m    172\u001b[0m \u001b[38;5;28;01mexcept\u001b[39;00m \u001b[38;5;167;01mTypeError\u001b[39;00m:\n",
      "File \u001b[0;32m~/.local/lib/python3.10/site-packages/pandas/core/computation/expressions.py:239\u001b[0m, in \u001b[0;36mevaluate\u001b[0;34m(op, a, b, use_numexpr)\u001b[0m\n\u001b[1;32m    237\u001b[0m     \u001b[38;5;28;01mif\u001b[39;00m use_numexpr:\n\u001b[1;32m    238\u001b[0m         \u001b[38;5;66;03m# error: \"None\" not callable\u001b[39;00m\n\u001b[0;32m--> 239\u001b[0m         \u001b[38;5;28;01mreturn\u001b[39;00m \u001b[43m_evaluate\u001b[49m\u001b[43m(\u001b[49m\u001b[43mop\u001b[49m\u001b[43m,\u001b[49m\u001b[43m \u001b[49m\u001b[43mop_str\u001b[49m\u001b[43m,\u001b[49m\u001b[43m \u001b[49m\u001b[43ma\u001b[49m\u001b[43m,\u001b[49m\u001b[43m \u001b[49m\u001b[43mb\u001b[49m\u001b[43m)\u001b[49m  \u001b[38;5;66;03m# type: ignore[misc]\u001b[39;00m\n\u001b[1;32m    240\u001b[0m \u001b[38;5;28;01mreturn\u001b[39;00m _evaluate_standard(op, op_str, a, b)\n",
      "File \u001b[0;32m~/.local/lib/python3.10/site-packages/pandas/core/computation/expressions.py:70\u001b[0m, in \u001b[0;36m_evaluate_standard\u001b[0;34m(op, op_str, a, b)\u001b[0m\n\u001b[1;32m     69\u001b[0m     _store_test_result(\u001b[38;5;28;01mFalse\u001b[39;00m)\n\u001b[0;32m---> 70\u001b[0m \u001b[38;5;28;01mreturn\u001b[39;00m \u001b[43mop\u001b[49m\u001b[43m(\u001b[49m\u001b[43ma\u001b[49m\u001b[43m,\u001b[49m\u001b[43m \u001b[49m\u001b[43mb\u001b[49m\u001b[43m)\u001b[49m\n",
      "\u001b[0;31mTypeError\u001b[0m: unsupported operand type(s) for -: 'str' and 'str'",
      "\nDuring handling of the above exception, another exception occurred:\n",
      "\u001b[0;31mTypeError\u001b[0m                                 Traceback (most recent call last)",
      "Cell \u001b[0;32mIn[18], line 1\u001b[0m\n\u001b[0;32m----> 1\u001b[0m result\u001b[38;5;241m=\u001b[39m\u001b[43mbt\u001b[49m\u001b[38;5;241;43m.\u001b[39;49m\u001b[43mrun\u001b[49m\u001b[43m(\u001b[49m\u001b[43m)\u001b[49m\n\u001b[1;32m      2\u001b[0m result\n",
      "File \u001b[0;32m~/.local/lib/python3.10/site-packages/backtesting/backtesting.py:1186\u001b[0m, in \u001b[0;36mBacktest.run\u001b[0;34m(self, **kwargs)\u001b[0m\n\u001b[1;32m   1183\u001b[0m     data\u001b[38;5;241m.\u001b[39m_set_length(\u001b[38;5;28mlen\u001b[39m(\u001b[38;5;28mself\u001b[39m\u001b[38;5;241m.\u001b[39m_data))\n\u001b[1;32m   1185\u001b[0m     equity \u001b[38;5;241m=\u001b[39m pd\u001b[38;5;241m.\u001b[39mSeries(broker\u001b[38;5;241m.\u001b[39m_equity)\u001b[38;5;241m.\u001b[39mbfill()\u001b[38;5;241m.\u001b[39mfillna(broker\u001b[38;5;241m.\u001b[39m_cash)\u001b[38;5;241m.\u001b[39mvalues\n\u001b[0;32m-> 1186\u001b[0m     \u001b[38;5;28mself\u001b[39m\u001b[38;5;241m.\u001b[39m_results \u001b[38;5;241m=\u001b[39m \u001b[43mcompute_stats\u001b[49m\u001b[43m(\u001b[49m\n\u001b[1;32m   1187\u001b[0m \u001b[43m        \u001b[49m\u001b[43mtrades\u001b[49m\u001b[38;5;241;43m=\u001b[39;49m\u001b[43mbroker\u001b[49m\u001b[38;5;241;43m.\u001b[39;49m\u001b[43mclosed_trades\u001b[49m\u001b[43m,\u001b[49m\n\u001b[1;32m   1188\u001b[0m \u001b[43m        \u001b[49m\u001b[43mequity\u001b[49m\u001b[38;5;241;43m=\u001b[39;49m\u001b[43mequity\u001b[49m\u001b[43m,\u001b[49m\n\u001b[1;32m   1189\u001b[0m \u001b[43m        \u001b[49m\u001b[43mohlc_data\u001b[49m\u001b[38;5;241;43m=\u001b[39;49m\u001b[38;5;28;43mself\u001b[39;49m\u001b[38;5;241;43m.\u001b[39;49m\u001b[43m_data\u001b[49m\u001b[43m,\u001b[49m\n\u001b[1;32m   1190\u001b[0m \u001b[43m        \u001b[49m\u001b[43mrisk_free_rate\u001b[49m\u001b[38;5;241;43m=\u001b[39;49m\u001b[38;5;241;43m0.0\u001b[39;49m\u001b[43m,\u001b[49m\n\u001b[1;32m   1191\u001b[0m \u001b[43m        \u001b[49m\u001b[43mstrategy_instance\u001b[49m\u001b[38;5;241;43m=\u001b[39;49m\u001b[43mstrategy\u001b[49m\u001b[43m,\u001b[49m\n\u001b[1;32m   1192\u001b[0m \u001b[43m    \u001b[49m\u001b[43m)\u001b[49m\n\u001b[1;32m   1194\u001b[0m \u001b[38;5;28;01mreturn\u001b[39;00m \u001b[38;5;28mself\u001b[39m\u001b[38;5;241m.\u001b[39m_results\n",
      "File \u001b[0;32m~/.local/lib/python3.10/site-packages/backtesting/_stats.py:46\u001b[0m, in \u001b[0;36mcompute_stats\u001b[0;34m(trades, equity, ohlc_data, strategy_instance, risk_free_rate)\u001b[0m\n\u001b[1;32m     44\u001b[0m index \u001b[38;5;241m=\u001b[39m ohlc_data\u001b[38;5;241m.\u001b[39mindex\n\u001b[1;32m     45\u001b[0m dd \u001b[38;5;241m=\u001b[39m \u001b[38;5;241m1\u001b[39m \u001b[38;5;241m-\u001b[39m equity \u001b[38;5;241m/\u001b[39m np\u001b[38;5;241m.\u001b[39mmaximum\u001b[38;5;241m.\u001b[39maccumulate(equity)\n\u001b[0;32m---> 46\u001b[0m dd_dur, dd_peaks \u001b[38;5;241m=\u001b[39m \u001b[43mcompute_drawdown_duration_peaks\u001b[49m\u001b[43m(\u001b[49m\u001b[43mpd\u001b[49m\u001b[38;5;241;43m.\u001b[39;49m\u001b[43mSeries\u001b[49m\u001b[43m(\u001b[49m\u001b[43mdd\u001b[49m\u001b[43m,\u001b[49m\u001b[43m \u001b[49m\u001b[43mindex\u001b[49m\u001b[38;5;241;43m=\u001b[39;49m\u001b[43mindex\u001b[49m\u001b[43m)\u001b[49m\u001b[43m)\u001b[49m\n\u001b[1;32m     48\u001b[0m equity_df \u001b[38;5;241m=\u001b[39m pd\u001b[38;5;241m.\u001b[39mDataFrame({\n\u001b[1;32m     49\u001b[0m     \u001b[38;5;124m'\u001b[39m\u001b[38;5;124mEquity\u001b[39m\u001b[38;5;124m'\u001b[39m: equity,\n\u001b[1;32m     50\u001b[0m     \u001b[38;5;124m'\u001b[39m\u001b[38;5;124mDrawdownPct\u001b[39m\u001b[38;5;124m'\u001b[39m: dd,\n\u001b[1;32m     51\u001b[0m     \u001b[38;5;124m'\u001b[39m\u001b[38;5;124mDrawdownDuration\u001b[39m\u001b[38;5;124m'\u001b[39m: dd_dur},\n\u001b[1;32m     52\u001b[0m     index\u001b[38;5;241m=\u001b[39mindex)\n\u001b[1;32m     54\u001b[0m \u001b[38;5;28;01mif\u001b[39;00m \u001b[38;5;28misinstance\u001b[39m(trades, pd\u001b[38;5;241m.\u001b[39mDataFrame):\n",
      "File \u001b[0;32m~/.local/lib/python3.10/site-packages/backtesting/_stats.py:22\u001b[0m, in \u001b[0;36mcompute_drawdown_duration_peaks\u001b[0;34m(dd)\u001b[0m\n\u001b[1;32m     19\u001b[0m \u001b[38;5;28;01mif\u001b[39;00m \u001b[38;5;129;01mnot\u001b[39;00m \u001b[38;5;28mlen\u001b[39m(df):\n\u001b[1;32m     20\u001b[0m     \u001b[38;5;28;01mreturn\u001b[39;00m (dd\u001b[38;5;241m.\u001b[39mreplace(\u001b[38;5;241m0\u001b[39m, np\u001b[38;5;241m.\u001b[39mnan),) \u001b[38;5;241m*\u001b[39m \u001b[38;5;241m2\u001b[39m\n\u001b[0;32m---> 22\u001b[0m df[\u001b[38;5;124m'\u001b[39m\u001b[38;5;124mduration\u001b[39m\u001b[38;5;124m'\u001b[39m] \u001b[38;5;241m=\u001b[39m \u001b[43mdf\u001b[49m\u001b[43m[\u001b[49m\u001b[38;5;124;43m'\u001b[39;49m\u001b[38;5;124;43miloc\u001b[39;49m\u001b[38;5;124;43m'\u001b[39;49m\u001b[43m]\u001b[49m\u001b[38;5;241;43m.\u001b[39;49m\u001b[43mmap\u001b[49m\u001b[43m(\u001b[49m\u001b[43mdd\u001b[49m\u001b[38;5;241;43m.\u001b[39;49m\u001b[43mindex\u001b[49m\u001b[38;5;241;43m.\u001b[39;49m\u001b[38;5;21;43m__getitem__\u001b[39;49m\u001b[43m)\u001b[49m\u001b[43m \u001b[49m\u001b[38;5;241;43m-\u001b[39;49m\u001b[43m \u001b[49m\u001b[43mdf\u001b[49m\u001b[43m[\u001b[49m\u001b[38;5;124;43m'\u001b[39;49m\u001b[38;5;124;43mprev\u001b[39;49m\u001b[38;5;124;43m'\u001b[39;49m\u001b[43m]\u001b[49m\u001b[38;5;241;43m.\u001b[39;49m\u001b[43mmap\u001b[49m\u001b[43m(\u001b[49m\u001b[43mdd\u001b[49m\u001b[38;5;241;43m.\u001b[39;49m\u001b[43mindex\u001b[49m\u001b[38;5;241;43m.\u001b[39;49m\u001b[38;5;21;43m__getitem__\u001b[39;49m\u001b[43m)\u001b[49m\n\u001b[1;32m     23\u001b[0m df[\u001b[38;5;124m'\u001b[39m\u001b[38;5;124mpeak_dd\u001b[39m\u001b[38;5;124m'\u001b[39m] \u001b[38;5;241m=\u001b[39m df\u001b[38;5;241m.\u001b[39mapply(\u001b[38;5;28;01mlambda\u001b[39;00m row: dd\u001b[38;5;241m.\u001b[39miloc[row[\u001b[38;5;124m'\u001b[39m\u001b[38;5;124mprev\u001b[39m\u001b[38;5;124m'\u001b[39m]:row[\u001b[38;5;124m'\u001b[39m\u001b[38;5;124miloc\u001b[39m\u001b[38;5;124m'\u001b[39m] \u001b[38;5;241m+\u001b[39m \u001b[38;5;241m1\u001b[39m]\u001b[38;5;241m.\u001b[39mmax(), axis\u001b[38;5;241m=\u001b[39m\u001b[38;5;241m1\u001b[39m)\n\u001b[1;32m     24\u001b[0m df \u001b[38;5;241m=\u001b[39m df\u001b[38;5;241m.\u001b[39mreindex(dd\u001b[38;5;241m.\u001b[39mindex)\n",
      "File \u001b[0;32m~/.local/lib/python3.10/site-packages/pandas/core/ops/common.py:81\u001b[0m, in \u001b[0;36m_unpack_zerodim_and_defer.<locals>.new_method\u001b[0;34m(self, other)\u001b[0m\n\u001b[1;32m     77\u001b[0m             \u001b[38;5;28;01mreturn\u001b[39;00m \u001b[38;5;28mNotImplemented\u001b[39m\n\u001b[1;32m     79\u001b[0m other \u001b[38;5;241m=\u001b[39m item_from_zerodim(other)\n\u001b[0;32m---> 81\u001b[0m \u001b[38;5;28;01mreturn\u001b[39;00m \u001b[43mmethod\u001b[49m\u001b[43m(\u001b[49m\u001b[38;5;28;43mself\u001b[39;49m\u001b[43m,\u001b[49m\u001b[43m \u001b[49m\u001b[43mother\u001b[49m\u001b[43m)\u001b[49m\n",
      "File \u001b[0;32m~/.local/lib/python3.10/site-packages/pandas/core/arraylike.py:194\u001b[0m, in \u001b[0;36mOpsMixin.__sub__\u001b[0;34m(self, other)\u001b[0m\n\u001b[1;32m    192\u001b[0m \u001b[38;5;129m@unpack_zerodim_and_defer\u001b[39m(\u001b[38;5;124m\"\u001b[39m\u001b[38;5;124m__sub__\u001b[39m\u001b[38;5;124m\"\u001b[39m)\n\u001b[1;32m    193\u001b[0m \u001b[38;5;28;01mdef\u001b[39;00m \u001b[38;5;21m__sub__\u001b[39m(\u001b[38;5;28mself\u001b[39m, other):\n\u001b[0;32m--> 194\u001b[0m     \u001b[38;5;28;01mreturn\u001b[39;00m \u001b[38;5;28;43mself\u001b[39;49m\u001b[38;5;241;43m.\u001b[39;49m\u001b[43m_arith_method\u001b[49m\u001b[43m(\u001b[49m\u001b[43mother\u001b[49m\u001b[43m,\u001b[49m\u001b[43m \u001b[49m\u001b[43moperator\u001b[49m\u001b[38;5;241;43m.\u001b[39;49m\u001b[43msub\u001b[49m\u001b[43m)\u001b[49m\n",
      "File \u001b[0;32m~/.local/lib/python3.10/site-packages/pandas/core/series.py:6112\u001b[0m, in \u001b[0;36mSeries._arith_method\u001b[0;34m(self, other, op)\u001b[0m\n\u001b[1;32m   6110\u001b[0m \u001b[38;5;28;01mdef\u001b[39;00m \u001b[38;5;21m_arith_method\u001b[39m(\u001b[38;5;28mself\u001b[39m, other, op):\n\u001b[1;32m   6111\u001b[0m     \u001b[38;5;28mself\u001b[39m, other \u001b[38;5;241m=\u001b[39m ops\u001b[38;5;241m.\u001b[39malign_method_SERIES(\u001b[38;5;28mself\u001b[39m, other)\n\u001b[0;32m-> 6112\u001b[0m     \u001b[38;5;28;01mreturn\u001b[39;00m \u001b[43mbase\u001b[49m\u001b[38;5;241;43m.\u001b[39;49m\u001b[43mIndexOpsMixin\u001b[49m\u001b[38;5;241;43m.\u001b[39;49m\u001b[43m_arith_method\u001b[49m\u001b[43m(\u001b[49m\u001b[38;5;28;43mself\u001b[39;49m\u001b[43m,\u001b[49m\u001b[43m \u001b[49m\u001b[43mother\u001b[49m\u001b[43m,\u001b[49m\u001b[43m \u001b[49m\u001b[43mop\u001b[49m\u001b[43m)\u001b[49m\n",
      "File \u001b[0;32m~/.local/lib/python3.10/site-packages/pandas/core/base.py:1348\u001b[0m, in \u001b[0;36mIndexOpsMixin._arith_method\u001b[0;34m(self, other, op)\u001b[0m\n\u001b[1;32m   1345\u001b[0m rvalues \u001b[38;5;241m=\u001b[39m ensure_wrapped_if_datetimelike(rvalues)\n\u001b[1;32m   1347\u001b[0m \u001b[38;5;28;01mwith\u001b[39;00m np\u001b[38;5;241m.\u001b[39merrstate(\u001b[38;5;28mall\u001b[39m\u001b[38;5;241m=\u001b[39m\u001b[38;5;124m\"\u001b[39m\u001b[38;5;124mignore\u001b[39m\u001b[38;5;124m\"\u001b[39m):\n\u001b[0;32m-> 1348\u001b[0m     result \u001b[38;5;241m=\u001b[39m \u001b[43mops\u001b[49m\u001b[38;5;241;43m.\u001b[39;49m\u001b[43marithmetic_op\u001b[49m\u001b[43m(\u001b[49m\u001b[43mlvalues\u001b[49m\u001b[43m,\u001b[49m\u001b[43m \u001b[49m\u001b[43mrvalues\u001b[49m\u001b[43m,\u001b[49m\u001b[43m \u001b[49m\u001b[43mop\u001b[49m\u001b[43m)\u001b[49m\n\u001b[1;32m   1350\u001b[0m \u001b[38;5;28;01mreturn\u001b[39;00m \u001b[38;5;28mself\u001b[39m\u001b[38;5;241m.\u001b[39m_construct_result(result, name\u001b[38;5;241m=\u001b[39mres_name)\n",
      "File \u001b[0;32m~/.local/lib/python3.10/site-packages/pandas/core/ops/array_ops.py:232\u001b[0m, in \u001b[0;36marithmetic_op\u001b[0;34m(left, right, op)\u001b[0m\n\u001b[1;32m    228\u001b[0m     _bool_arith_check(op, left, right)\n\u001b[1;32m    230\u001b[0m     \u001b[38;5;66;03m# error: Argument 1 to \"_na_arithmetic_op\" has incompatible type\u001b[39;00m\n\u001b[1;32m    231\u001b[0m     \u001b[38;5;66;03m# \"Union[ExtensionArray, ndarray[Any, Any]]\"; expected \"ndarray[Any, Any]\"\u001b[39;00m\n\u001b[0;32m--> 232\u001b[0m     res_values \u001b[38;5;241m=\u001b[39m \u001b[43m_na_arithmetic_op\u001b[49m\u001b[43m(\u001b[49m\u001b[43mleft\u001b[49m\u001b[43m,\u001b[49m\u001b[43m \u001b[49m\u001b[43mright\u001b[49m\u001b[43m,\u001b[49m\u001b[43m \u001b[49m\u001b[43mop\u001b[49m\u001b[43m)\u001b[49m  \u001b[38;5;66;03m# type: ignore[arg-type]\u001b[39;00m\n\u001b[1;32m    234\u001b[0m \u001b[38;5;28;01mreturn\u001b[39;00m res_values\n",
      "File \u001b[0;32m~/.local/lib/python3.10/site-packages/pandas/core/ops/array_ops.py:178\u001b[0m, in \u001b[0;36m_na_arithmetic_op\u001b[0;34m(left, right, op, is_cmp)\u001b[0m\n\u001b[1;32m    172\u001b[0m \u001b[38;5;28;01mexcept\u001b[39;00m \u001b[38;5;167;01mTypeError\u001b[39;00m:\n\u001b[1;32m    173\u001b[0m     \u001b[38;5;28;01mif\u001b[39;00m \u001b[38;5;129;01mnot\u001b[39;00m is_cmp \u001b[38;5;129;01mand\u001b[39;00m (is_object_dtype(left\u001b[38;5;241m.\u001b[39mdtype) \u001b[38;5;129;01mor\u001b[39;00m is_object_dtype(right)):\n\u001b[1;32m    174\u001b[0m         \u001b[38;5;66;03m# For object dtype, fallback to a masked operation (only operating\u001b[39;00m\n\u001b[1;32m    175\u001b[0m         \u001b[38;5;66;03m#  on the non-missing values)\u001b[39;00m\n\u001b[1;32m    176\u001b[0m         \u001b[38;5;66;03m# Don't do this for comparisons, as that will handle complex numbers\u001b[39;00m\n\u001b[1;32m    177\u001b[0m         \u001b[38;5;66;03m#  incorrectly, see GH#32047\u001b[39;00m\n\u001b[0;32m--> 178\u001b[0m         result \u001b[38;5;241m=\u001b[39m \u001b[43m_masked_arith_op\u001b[49m\u001b[43m(\u001b[49m\u001b[43mleft\u001b[49m\u001b[43m,\u001b[49m\u001b[43m \u001b[49m\u001b[43mright\u001b[49m\u001b[43m,\u001b[49m\u001b[43m \u001b[49m\u001b[43mop\u001b[49m\u001b[43m)\u001b[49m\n\u001b[1;32m    179\u001b[0m     \u001b[38;5;28;01melse\u001b[39;00m:\n\u001b[1;32m    180\u001b[0m         \u001b[38;5;28;01mraise\u001b[39;00m\n",
      "File \u001b[0;32m~/.local/lib/python3.10/site-packages/pandas/core/ops/array_ops.py:116\u001b[0m, in \u001b[0;36m_masked_arith_op\u001b[0;34m(x, y, op)\u001b[0m\n\u001b[1;32m    114\u001b[0m     \u001b[38;5;66;03m# See GH#5284, GH#5035, GH#19448 for historical reference\u001b[39;00m\n\u001b[1;32m    115\u001b[0m     \u001b[38;5;28;01mif\u001b[39;00m mask\u001b[38;5;241m.\u001b[39many():\n\u001b[0;32m--> 116\u001b[0m         result[mask] \u001b[38;5;241m=\u001b[39m \u001b[43mop\u001b[49m\u001b[43m(\u001b[49m\u001b[43mxrav\u001b[49m\u001b[43m[\u001b[49m\u001b[43mmask\u001b[49m\u001b[43m]\u001b[49m\u001b[43m,\u001b[49m\u001b[43m \u001b[49m\u001b[43myrav\u001b[49m\u001b[43m[\u001b[49m\u001b[43mmask\u001b[49m\u001b[43m]\u001b[49m\u001b[43m)\u001b[49m\n\u001b[1;32m    118\u001b[0m \u001b[38;5;28;01melse\u001b[39;00m:\n\u001b[1;32m    119\u001b[0m     \u001b[38;5;28;01mif\u001b[39;00m \u001b[38;5;129;01mnot\u001b[39;00m is_scalar(y):\n",
      "\u001b[0;31mTypeError\u001b[0m: unsupported operand type(s) for -: 'str' and 'str'"
     ]
    }
   ],
   "source": [
    "result=bt.run()\n",
    "result"
   ]
  },
  {
   "cell_type": "code",
   "execution_count": 16,
   "metadata": {
    "id": "M2LOoQdpX-wO"
   },
   "outputs": [
    {
     "ename": "RuntimeError",
     "evalue": "First issue `backtest.run()` to obtain results.",
     "output_type": "error",
     "traceback": [
      "\u001b[0;31m---------------------------------------------------------------------------\u001b[0m",
      "\u001b[0;31mRuntimeError\u001b[0m                              Traceback (most recent call last)",
      "Cell \u001b[0;32mIn[16], line 1\u001b[0m\n\u001b[0;32m----> 1\u001b[0m \u001b[43mbt\u001b[49m\u001b[38;5;241;43m.\u001b[39;49m\u001b[43mplot\u001b[49m\u001b[43m(\u001b[49m\u001b[43m)\u001b[49m\n",
      "File \u001b[0;32m~/.local/lib/python3.10/site-packages/backtesting/backtesting.py:1589\u001b[0m, in \u001b[0;36mBacktest.plot\u001b[0;34m(self, results, filename, plot_width, plot_equity, plot_return, plot_pl, plot_volume, plot_drawdown, smooth_equity, relative_equity, superimpose, resample, reverse_indicators, show_legend, open_browser)\u001b[0m\n\u001b[1;32m   1587\u001b[0m \u001b[38;5;28;01mif\u001b[39;00m results \u001b[38;5;129;01mis\u001b[39;00m \u001b[38;5;28;01mNone\u001b[39;00m:\n\u001b[1;32m   1588\u001b[0m     \u001b[38;5;28;01mif\u001b[39;00m \u001b[38;5;28mself\u001b[39m\u001b[38;5;241m.\u001b[39m_results \u001b[38;5;129;01mis\u001b[39;00m \u001b[38;5;28;01mNone\u001b[39;00m:\n\u001b[0;32m-> 1589\u001b[0m         \u001b[38;5;28;01mraise\u001b[39;00m \u001b[38;5;167;01mRuntimeError\u001b[39;00m(\u001b[38;5;124m'\u001b[39m\u001b[38;5;124mFirst issue `backtest.run()` to obtain results.\u001b[39m\u001b[38;5;124m'\u001b[39m)\n\u001b[1;32m   1590\u001b[0m     results \u001b[38;5;241m=\u001b[39m \u001b[38;5;28mself\u001b[39m\u001b[38;5;241m.\u001b[39m_results\n\u001b[1;32m   1592\u001b[0m \u001b[38;5;28;01mreturn\u001b[39;00m plot(\n\u001b[1;32m   1593\u001b[0m     results\u001b[38;5;241m=\u001b[39mresults,\n\u001b[1;32m   1594\u001b[0m     df\u001b[38;5;241m=\u001b[39m\u001b[38;5;28mself\u001b[39m\u001b[38;5;241m.\u001b[39m_data,\n\u001b[0;32m   (...)\u001b[0m\n\u001b[1;32m   1608\u001b[0m     show_legend\u001b[38;5;241m=\u001b[39mshow_legend,\n\u001b[1;32m   1609\u001b[0m     open_browser\u001b[38;5;241m=\u001b[39mopen_browser)\n",
      "\u001b[0;31mRuntimeError\u001b[0m: First issue `backtest.run()` to obtain results."
     ]
    }
   ],
   "source": [
    "bt.plot()"
   ]
  },
  {
   "cell_type": "code",
   "execution_count": null,
   "metadata": {
    "id": "HeMePmla5Pyl"
   },
   "outputs": [],
   "source": []
  }
 ],
 "metadata": {
  "colab": {
   "collapsed_sections": [
    "DnuI4g3zY_-d",
    "hlekHGvMZG4_",
    "-nNZVaq3Y1QM",
    "YZq0rF9lWyS9",
    "QFycT9W35kGn",
    "UOSmzTdlSPMW",
    "KFV58dBP5oXv"
   ],
   "provenance": []
  },
  "kernelspec": {
   "display_name": "Python 3 (ipykernel)",
   "language": "python",
   "name": "python3"
  },
  "language_info": {
   "codemirror_mode": {
    "name": "ipython",
    "version": 3
   },
   "file_extension": ".py",
   "mimetype": "text/x-python",
   "name": "python",
   "nbconvert_exporter": "python",
   "pygments_lexer": "ipython3",
   "version": "3.10.12"
  }
 },
 "nbformat": 4,
 "nbformat_minor": 4
}

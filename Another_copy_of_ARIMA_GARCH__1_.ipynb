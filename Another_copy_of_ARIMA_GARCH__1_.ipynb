{
  "nbformat": 4,
  "nbformat_minor": 0,
  "metadata": {
    "colab": {
      "provenance": []
    },
    "kernelspec": {
      "name": "python3",
      "display_name": "Python 3"
    },
    "language_info": {
      "name": "python"
    }
  },
  "cells": [
    {
      "cell_type": "code",
      "source": [
        "#USAGE\n",
        "#Upload the data file, set fileName variable\n",
        "#Run all\n",
        "#logs.csv is the required file\n",
        "fileName = 'btcusdt_1h.csv'"
      ],
      "metadata": {
        "id": "dSztH4Vezc6E"
      },
      "execution_count": 38,
      "outputs": []
    },
    {
      "cell_type": "code",
      "source": [
        "!pip -q install arch\n",
        "\n",
        "import numpy as np\n",
        "import pandas as pd\n",
        "import seaborn as sns\n",
        "import matplotlib.pyplot as plt\n",
        "from scipy import stats\n",
        "from arch import arch_model\n",
        "from itertools import product\n",
        "from datetime import datetime\n",
        "import statsmodels.api as sm\n",
        "from statsmodels.tsa.arima_model import ARIMA\n",
        "from statsmodels.tsa.statespace.sarimax import SARIMAX\n",
        "\n",
        "import warnings\n",
        "plt.style.use('seaborn-poster')\n",
        "warnings.filterwarnings(\"ignore\")"
      ],
      "metadata": {
        "id": "vLpdo2v8lj8-"
      },
      "execution_count": 39,
      "outputs": []
    },
    {
      "cell_type": "code",
      "source": [
        "#from google.colab import drive\n",
        "#drive.mount('/content/drive')\n"
      ],
      "metadata": {
        "id": "kSbFftcElpbS"
      },
      "execution_count": 40,
      "outputs": []
    },
    {
      "cell_type": "code",
      "source": [
        "df = pd.read_csv(\"/content/\"+fileName)\n",
        "df[\"datetime\"] = pd.to_datetime(df[\"datetime\"])\n",
        "df.set_index(\"datetime\", inplace = True)\n",
        "df.shape\n",
        "df[\"return\"] = df[\"close\"].pct_change().shift(-1) * 100\n",
        "df.fillna(0, inplace=True)"
      ],
      "metadata": {
        "id": "NWXPbgKhtjRx"
      },
      "execution_count": 41,
      "outputs": []
    },
    {
      "cell_type": "code",
      "source": [
        "def arima_m(df, win):\n",
        "    arima = np.zeros(df.shape[0])\n",
        "    for i in range(0, df.shape[0], int(0.1*win)):\n",
        "        try:\n",
        "            arima_model = SARIMAX(np.log(df.close.iloc[i:i+win]), order=(1, 0, 1)).fit(disp=-1)\n",
        "            arima[i+win: i+int(1.1*win)] = np.exp(arima_model.predict(start = win, end =int(1.1*win)-1))\n",
        "        except:\n",
        "            arima_model = SARIMAX(np.log(df.close.iloc[-int(1.1*win):-int(0.1*win)]), order=(1, 0, 1)).fit(disp=-1)\n",
        "            arima[-int(0.1*win): ] = np.exp(arima_model.predict(start = win, end =int(1.1*win)-1))\n",
        "    return arima\n",
        "\n",
        "def garch_m(df, win):\n",
        "    garch = np.zeros(df.shape[0])\n",
        "    for i in range(0, win, 100):\n",
        "      garch_model = arch_model(df['return'].iloc[i:int(i+100)], vol='EGARCH', p = 1, o = 0, q = 1, rescale = False).fit(options={'maxiter': 2000}, disp = 0)\n",
        "      garch[i+100: i+110] = np.sqrt(np.array(garch_model.forecast(horizon = 10 , method='simulation', reindex=False).variance))\n",
        "    for i in range(0, df.shape[0], int(0.1*win)):\n",
        "        try:\n",
        "            garch_model = arch_model(df['return'].iloc[i:int(i+win)], vol='EGARCH', p = 1, o = 0, q = 1, rescale = False).fit(options={'maxiter': 2000}, disp = 0)\n",
        "            garch[i+win: i+int(1.1*win)] = np.sqrt(np.array(garch_model.forecast(horizon = int(0.1*win) , method='simulation', reindex=False).variance))\n",
        "        except:\n",
        "            garch_model = arch_model(df['return'].iloc[-int(1.1*win):-int(0.1*win)], vol='EGARCH', p = 1, o = 0, q = 1, rescale = False).fit(options={'maxiter': 2000}, disp = 0)\n",
        "            garch[-int(0.1*win): ] = np.sqrt(np.array(garch_model.forecast(horizon = int(0.1*win) , method='simulation', reindex=False).variance))\n",
        "    return garch"
      ],
      "metadata": {
        "id": "C-y2tp6-lvpJ"
      },
      "execution_count": 42,
      "outputs": []
    },
    {
      "cell_type": "code",
      "source": [
        "df['garch'] = garch_m(df, 6000)"
      ],
      "metadata": {
        "id": "msExTSFDvoLg"
      },
      "execution_count": null,
      "outputs": []
    },
    {
      "cell_type": "code",
      "source": [
        "win = 720\n",
        "df['arima'] = arima_m(df, win)"
      ],
      "metadata": {
        "id": "h9WmR9OKlwZ3"
      },
      "execution_count": null,
      "outputs": []
    },
    {
      "cell_type": "code",
      "source": [
        "df['signals'] = np.zeros(df.shape[0])\n",
        "i = win-1\n",
        "gap = int(win/10) - 1\n",
        "while i < (df.shape[0]-gap):\n",
        "    d = df.arima.iloc[i+gap] - df.arima.iloc[i]\n",
        "    if d > 200  and d < 5000 and df.garch.iloc[i] >0.5 and df.garch.iloc[i] < 4:\n",
        "        df['signals'].iloc[i]  = 1\n",
        "        df['signals'].iloc[i+gap] = -1\n",
        "    elif d <-200 and d > -5000 and df.garch.iloc[i] >0.5 and df.garch.iloc[i] < 4 :\n",
        "        df['signals'].iloc[i]  = -1\n",
        "        df['signals'].iloc[i+gap] = +1\n",
        "    i += gap+1"
      ],
      "metadata": {
        "id": "QTGFFDvXlz87"
      },
      "execution_count": null,
      "outputs": []
    },
    {
      "cell_type": "code",
      "source": [
        "df = df[['open', 'high', 'low', 'close', 'volume', 'signals']]\n",
        "df.reset_index(inplace=True)\n",
        "df['Index'] = df.index\n",
        "df[['Index', 'datetime', 'open', 'high', 'low', 'close', 'volume', 'signals']].to_csv('/content/logs.csv',encoding='utf-8',index=False)"
      ],
      "metadata": {
        "id": "31skSXxCQ_uJ"
      },
      "execution_count": null,
      "outputs": []
    }
  ]
}